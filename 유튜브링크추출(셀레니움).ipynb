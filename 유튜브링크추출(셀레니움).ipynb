{
 "cells": [
  {
   "cell_type": "markdown",
   "id": "2974d2f3",
   "metadata": {},
   "source": [
    "## 유튜브소스코드 추출\n",
    "- beautifulsoup 한계로 selenium사용"
   ]
  },
  {
   "cell_type": "markdown",
   "id": "3aa45853",
   "metadata": {},
   "source": [
    "### 2023-02-22\n",
    "song_df 데이터 프레임에 정리된 곡명 가수명을 쿼리값으로 유튜브 검색후 첫번째 영상을 추출시\n",
    "광고, 검색값과 다른 영상, 검색값이 없는경우 등 오류가 있음\n",
    "해결해보기위해 유튜브 api사용해보기로 함"
   ]
  },
  {
   "cell_type": "code",
   "execution_count": 1,
   "id": "8d965794",
   "metadata": {
    "ExecuteTime": {
     "end_time": "2023-02-22T23:19:36.274654Z",
     "start_time": "2023-02-22T23:19:35.435425Z"
    }
   },
   "outputs": [],
   "source": [
    "from selenium import webdriver as wb\n",
    "from selenium.webdriver.common.by import By\n",
    "from selenium.webdriver.common.keys import Keys\n",
    "import time # 딜레이 기능 - sleep(초)\n",
    "\n",
    "# 판다스\n",
    "import pandas as pd"
   ]
  },
  {
   "cell_type": "code",
   "execution_count": 2,
   "id": "47620281",
   "metadata": {
    "ExecuteTime": {
     "end_time": "2023-02-22T23:19:36.945052Z",
     "start_time": "2023-02-22T23:19:36.275677Z"
    },
    "scrolled": true
   },
   "outputs": [],
   "source": [
    "song_df = pd.read_excel('./music.xlsx') "
   ]
  },
  {
   "cell_type": "code",
   "execution_count": 3,
   "id": "dbd113f2",
   "metadata": {
    "ExecuteTime": {
     "end_time": "2023-02-22T23:19:37.025151Z",
     "start_time": "2023-02-22T23:19:36.945052Z"
    }
   },
   "outputs": [],
   "source": [
    "# 곡명-가수명으로 검색한 url 리스트 만들기\n",
    "url_lst = []\n",
    "for i in range(len(song_df)):\n",
    "    song = song_df.iloc[i][0] # 곡명담기\n",
    "    singer = song_df.iloc[i][1] # 가수명담기\n",
    "    url = f'https://www.youtube.com/results?search_query={singer}+-+{song}+lyrics' # 가수명-곡명 lyrics으로 검색한 url\n",
    "    url_lst.append(url) # url리스트에 담아주기"
   ]
  },
  {
   "cell_type": "markdown",
   "id": "6a750830",
   "metadata": {},
   "source": [
    "### 어떻게 필요한 영상만 담을까??\n",
    "- 첫번째 for문 -> 모든 곡에대한 url 접근\n",
    "- 두번째 for문 -> 한음원 url에 접근후 나온페이지의 모든 영상에 접근\n",
    "- if문 -> 노래명 가수명이 포함일시 링크따오고 break, 추가적으로 a, b, c 등해서 어떤 조건에서 따온 url인지도 판단하는 리스트 컬럼 만들어보기\n",
    "- elif -> 가사 또는 lyrics이 제목에 포함일시 링크따오고 break\n",
    "- 해당 url에 원하는 영상 링크를 못따올시 처리방법 생각"
   ]
  },
  {
   "cell_type": "code",
   "execution_count": 4,
   "id": "668f5130",
   "metadata": {
    "ExecuteTime": {
     "end_time": "2023-02-23T01:35:07.713248Z",
     "start_time": "2023-02-22T23:19:37.025151Z"
    }
   },
   "outputs": [],
   "source": [
    "# 영상url 담아줄 리스트\n",
    "yt_lst = []\n",
    "\n",
    "# 어떤 조건에서 url이 담겨졌는지 체크할 리스트\n",
    "yt_lst_check = []\n",
    "\n",
    "# 검색할 url_lst 만큼 반복\n",
    "for i in range(len(url_lst)):\n",
    "    driver = wb.Chrome()\n",
    "    driver.get(url_lst[i])\n",
    "    time.sleep(5)\n",
    "    \n",
    "    # 검색하여 만들어진 유튜브 웹페이지에서 영상제목의 링크가 담긴 a태그, text가 담긴 태그에 접근\n",
    "    aTag = driver.find_elements(By.CSS_SELECTOR, value = 'ytd-video-renderer #video-title')\n",
    "    name = driver.find_elements(By.CSS_SELECTOR, value = 'ytd-video-renderer yt-formatted-string')\n",
    "    \n",
    "    # 접근한 a태그에서 링크 추출하기\n",
    "    if len(aTag)>0: # 웹페이제 접근했을때 검색 결과가 있을시\n",
    "        for j in range(len(aTag)):\n",
    "            \n",
    "            # 첫번째 조건 - 접근할 영상 제목에 곡명 가수명 일치할시에 aTag에 접근해서 링크 추출\n",
    "            if (song_df.iloc[i][0]) in name[j].text and (song_df.iloc[i][1]) in name[j].text:\n",
    "                yt = aTag[j].get_attribute('href') # a태그의 href속성값 추출\n",
    "                yt_lst.append(yt) # 추출한 href속성값 yt_lst에 담아주기\n",
    "                yt_lst_check.append(\"a\") # 곡명 가수명 포함시\n",
    "                break\n",
    "                \n",
    "            # 두번째 조건 영상 제목에 가사 또는 lyrics가 포함되어있을시 aTag 접근해서 링크  추출\n",
    "            elif '가사' in name[j].text or 'lyrics' in name[j].text:\n",
    "                yt = aTag[j].get_attribute('href') # a태그의 href속성값 추출\n",
    "                yt_lst.append(yt) # 추출한 href속성값 yt_lst에 담아주기\n",
    "                yt_lst_check.append(\"b\") # 가수 or lyrics 가 포함시\n",
    "                break\n",
    "            elif j == (len(aTag)-1):\n",
    "                yt_lst.append('검색결과없음')\n",
    "                yt_lst_check.append(\"c\")\n",
    "                \n",
    "    else: # 웹페이지에 접근했을때 검색 결과가 없을시\n",
    "            yt_lst.append(\"검색결과없음\") \n",
    "            yt_lst_check.append(\"c\") # 검색결과 없을시\n",
    "driver.quit()"
   ]
  },
  {
   "cell_type": "code",
   "execution_count": 5,
   "id": "ed4eab8b",
   "metadata": {
    "ExecuteTime": {
     "end_time": "2023-02-23T01:35:07.866495Z",
     "start_time": "2023-02-23T01:35:07.745578Z"
    },
    "scrolled": true
   },
   "outputs": [
    {
     "data": {
      "text/html": [
       "<div>\n",
       "<style scoped>\n",
       "    .dataframe tbody tr th:only-of-type {\n",
       "        vertical-align: middle;\n",
       "    }\n",
       "\n",
       "    .dataframe tbody tr th {\n",
       "        vertical-align: top;\n",
       "    }\n",
       "\n",
       "    .dataframe thead th {\n",
       "        text-align: right;\n",
       "    }\n",
       "</style>\n",
       "<table border=\"1\" class=\"dataframe\">\n",
       "  <thead>\n",
       "    <tr style=\"text-align: right;\">\n",
       "      <th></th>\n",
       "      <th>곡명</th>\n",
       "      <th>가수명</th>\n",
       "      <th>src</th>\n",
       "      <th>장르</th>\n",
       "      <th>유튜브</th>\n",
       "      <th>체크</th>\n",
       "    </tr>\n",
       "  </thead>\n",
       "  <tbody>\n",
       "    <tr>\n",
       "      <th>0</th>\n",
       "      <td>너의 모든 순간</td>\n",
       "      <td>성시경</td>\n",
       "      <td>https://image.bugsm.co.kr/album/images/200/413...</td>\n",
       "      <td>ballad</td>\n",
       "      <td>https://www.youtube.com/watch?v=evOsUf9en-Y</td>\n",
       "      <td>a</td>\n",
       "    </tr>\n",
       "    <tr>\n",
       "      <th>1</th>\n",
       "      <td>Monologue</td>\n",
       "      <td>테이(Tei)</td>\n",
       "      <td>https://image.bugsm.co.kr/album/images/200/407...</td>\n",
       "      <td>ballad</td>\n",
       "      <td>https://www.youtube.com/watch?v=zVTO8br-6XQ</td>\n",
       "      <td>a</td>\n",
       "    </tr>\n",
       "    <tr>\n",
       "      <th>2</th>\n",
       "      <td>혼자서 걸어요 (Prod. by 나얼)</td>\n",
       "      <td>태연 (TAEYEON)</td>\n",
       "      <td>https://image.bugsm.co.kr/album/images/200/408...</td>\n",
       "      <td>ballad</td>\n",
       "      <td>https://www.youtube.com/watch?v=hjfeLAGT47s</td>\n",
       "      <td>a</td>\n",
       "    </tr>\n",
       "    <tr>\n",
       "      <th>3</th>\n",
       "      <td>Say I Love You</td>\n",
       "      <td>우디(Woody)</td>\n",
       "      <td>https://image.bugsm.co.kr/album/images/200/205...</td>\n",
       "      <td>ballad</td>\n",
       "      <td>https://www.youtube.com/watch?v=JEJGD9mIYQQ</td>\n",
       "      <td>a</td>\n",
       "    </tr>\n",
       "    <tr>\n",
       "      <th>4</th>\n",
       "      <td>그댄 행복에 살텐데 (2022)</td>\n",
       "      <td>최유리</td>\n",
       "      <td>https://image.bugsm.co.kr/album/images/200/205...</td>\n",
       "      <td>ballad</td>\n",
       "      <td>https://www.youtube.com/watch?v=BEdrr7Je1bU</td>\n",
       "      <td>a</td>\n",
       "    </tr>\n",
       "    <tr>\n",
       "      <th>...</th>\n",
       "      <td>...</td>\n",
       "      <td>...</td>\n",
       "      <td>...</td>\n",
       "      <td>...</td>\n",
       "      <td>...</td>\n",
       "      <td>...</td>\n",
       "    </tr>\n",
       "    <tr>\n",
       "      <th>795</th>\n",
       "      <td>THREAT</td>\n",
       "      <td>Rex Orange County(렉스 오렌지 카운티)</td>\n",
       "      <td>https://image.bugsm.co.kr/album/images/200/189...</td>\n",
       "      <td>pop</td>\n",
       "      <td>https://www.youtube.com/watch?v=jumBJaTBb-E</td>\n",
       "      <td>b</td>\n",
       "    </tr>\n",
       "    <tr>\n",
       "      <th>796</th>\n",
       "      <td>I Don’t Think That I Like Her</td>\n",
       "      <td>Charlie Puth(찰리 푸스)</td>\n",
       "      <td>https://image.bugsm.co.kr/album/images/200/408...</td>\n",
       "      <td>pop</td>\n",
       "      <td>https://www.youtube.com/watch?v=c6sB2clIvsE</td>\n",
       "      <td>b</td>\n",
       "    </tr>\n",
       "    <tr>\n",
       "      <th>797</th>\n",
       "      <td>IT'S YOU (feat. keshi)</td>\n",
       "      <td>MAX(맥스)</td>\n",
       "      <td>https://image.bugsm.co.kr/album/images/200/193...</td>\n",
       "      <td>pop</td>\n",
       "      <td>https://www.youtube.com/watch?v=pLq7iWUbifc</td>\n",
       "      <td>b</td>\n",
       "    </tr>\n",
       "    <tr>\n",
       "      <th>798</th>\n",
       "      <td>Nancy Got A Haircut</td>\n",
       "      <td>Alec Benjamin(알렉 벤자민)</td>\n",
       "      <td>https://image.bugsm.co.kr/album/images/200/176...</td>\n",
       "      <td>pop</td>\n",
       "      <td>검색결과없음</td>\n",
       "      <td>c</td>\n",
       "    </tr>\n",
       "    <tr>\n",
       "      <th>799</th>\n",
       "      <td>Bonfire</td>\n",
       "      <td>Peder Elias</td>\n",
       "      <td>https://image.bugsm.co.kr/album/images/200/916...</td>\n",
       "      <td>pop</td>\n",
       "      <td>https://www.youtube.com/watch?v=JhgaKgFAjFo</td>\n",
       "      <td>a</td>\n",
       "    </tr>\n",
       "  </tbody>\n",
       "</table>\n",
       "<p>800 rows × 6 columns</p>\n",
       "</div>"
      ],
      "text/plain": [
       "                                곡명                            가수명  \\\n",
       "0                         너의 모든 순간                            성시경   \n",
       "1                        Monologue                        테이(Tei)   \n",
       "2            혼자서 걸어요 (Prod. by 나얼)                   태연 (TAEYEON)   \n",
       "3                   Say I Love You                      우디(Woody)   \n",
       "4                그댄 행복에 살텐데 (2022)                            최유리   \n",
       "..                             ...                            ...   \n",
       "795                         THREAT  Rex Orange County(렉스 오렌지 카운티)   \n",
       "796  I Don’t Think That I Like Her            Charlie Puth(찰리 푸스)   \n",
       "797         IT'S YOU (feat. keshi)                        MAX(맥스)   \n",
       "798            Nancy Got A Haircut          Alec Benjamin(알렉 벤자민)   \n",
       "799                        Bonfire                    Peder Elias   \n",
       "\n",
       "                                                   src      장르  \\\n",
       "0    https://image.bugsm.co.kr/album/images/200/413...  ballad   \n",
       "1    https://image.bugsm.co.kr/album/images/200/407...  ballad   \n",
       "2    https://image.bugsm.co.kr/album/images/200/408...  ballad   \n",
       "3    https://image.bugsm.co.kr/album/images/200/205...  ballad   \n",
       "4    https://image.bugsm.co.kr/album/images/200/205...  ballad   \n",
       "..                                                 ...     ...   \n",
       "795  https://image.bugsm.co.kr/album/images/200/189...     pop   \n",
       "796  https://image.bugsm.co.kr/album/images/200/408...     pop   \n",
       "797  https://image.bugsm.co.kr/album/images/200/193...     pop   \n",
       "798  https://image.bugsm.co.kr/album/images/200/176...     pop   \n",
       "799  https://image.bugsm.co.kr/album/images/200/916...     pop   \n",
       "\n",
       "                                             유튜브 체크  \n",
       "0    https://www.youtube.com/watch?v=evOsUf9en-Y  a  \n",
       "1    https://www.youtube.com/watch?v=zVTO8br-6XQ  a  \n",
       "2    https://www.youtube.com/watch?v=hjfeLAGT47s  a  \n",
       "3    https://www.youtube.com/watch?v=JEJGD9mIYQQ  a  \n",
       "4    https://www.youtube.com/watch?v=BEdrr7Je1bU  a  \n",
       "..                                           ... ..  \n",
       "795  https://www.youtube.com/watch?v=jumBJaTBb-E  b  \n",
       "796  https://www.youtube.com/watch?v=c6sB2clIvsE  b  \n",
       "797  https://www.youtube.com/watch?v=pLq7iWUbifc  b  \n",
       "798                                       검색결과없음  c  \n",
       "799  https://www.youtube.com/watch?v=JhgaKgFAjFo  a  \n",
       "\n",
       "[800 rows x 6 columns]"
      ]
     },
     "execution_count": 5,
     "metadata": {},
     "output_type": "execute_result"
    }
   ],
   "source": [
    "song_df['유튜브'] = yt_lst\n",
    "song_df['체크'] = yt_lst_check\n",
    "song_df"
   ]
  },
  {
   "cell_type": "code",
   "execution_count": 6,
   "id": "478c19f0",
   "metadata": {
    "ExecuteTime": {
     "end_time": "2023-02-23T01:40:47.679581Z",
     "start_time": "2023-02-23T01:40:47.379080Z"
    }
   },
   "outputs": [],
   "source": [
    "song_df.to_excel('./music2.xlsx', index = False)"
   ]
  }
 ],
 "metadata": {
  "kernelspec": {
   "display_name": "Python 3 (ipykernel)",
   "language": "python",
   "name": "python3"
  },
  "language_info": {
   "codemirror_mode": {
    "name": "ipython",
    "version": 3
   },
   "file_extension": ".py",
   "mimetype": "text/x-python",
   "name": "python",
   "nbconvert_exporter": "python",
   "pygments_lexer": "ipython3",
   "version": "3.9.13"
  },
  "toc": {
   "base_numbering": 1,
   "nav_menu": {},
   "number_sections": true,
   "sideBar": true,
   "skip_h1_title": false,
   "title_cell": "Table of Contents",
   "title_sidebar": "Contents",
   "toc_cell": false,
   "toc_position": {},
   "toc_section_display": true,
   "toc_window_display": false
  },
  "varInspector": {
   "cols": {
    "lenName": 16,
    "lenType": 16,
    "lenVar": 40
   },
   "kernels_config": {
    "python": {
     "delete_cmd_postfix": "",
     "delete_cmd_prefix": "del ",
     "library": "var_list.py",
     "varRefreshCmd": "print(var_dic_list())"
    },
    "r": {
     "delete_cmd_postfix": ") ",
     "delete_cmd_prefix": "rm(",
     "library": "var_list.r",
     "varRefreshCmd": "cat(var_dic_list()) "
    }
   },
   "types_to_exclude": [
    "module",
    "function",
    "builtin_function_or_method",
    "instance",
    "_Feature"
   ],
   "window_display": false
  }
 },
 "nbformat": 4,
 "nbformat_minor": 5
}
