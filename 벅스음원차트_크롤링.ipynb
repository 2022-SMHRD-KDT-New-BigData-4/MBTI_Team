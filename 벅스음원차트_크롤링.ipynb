{
 "cells": [
  {
   "cell_type": "code",
   "execution_count": 1,
   "id": "301d5bb3",
   "metadata": {
    "ExecuteTime": {
     "end_time": "2023-02-06T13:56:27.211818Z",
     "start_time": "2023-02-06T13:56:26.738425Z"
    }
   },
   "outputs": [],
   "source": [
    "# 판다스\n",
    "import pandas as pd\n",
    "# requests\n",
    "import requests as req\n",
    "# bs\n",
    "from bs4 import BeautifulSoup as bs\n",
    "\n",
    "# header\n",
    "header = {'user-agent':'Mozilla/5.0 (Windows NT 10.0; Win64; x64) AppleWebKit/537.36 (KHTML, like Gecko) Chrome/109.0.0.0 Safari/537.36'}"
   ]
  },
  {
   "cell_type": "code",
   "execution_count": 2,
   "id": "c7ad53ac",
   "metadata": {
    "ExecuteTime": {
     "end_time": "2023-02-06T13:56:27.573056Z",
     "start_time": "2023-02-06T13:56:27.211818Z"
    }
   },
   "outputs": [],
   "source": [
    "# 장르\n",
    "genre = 'ballad' # 발라드 -> 추후 장르리스트에서 데이터 꺼내와서 작성\n",
    "\n",
    "# f포매팅 사용하여 장르별 벅스차트 url 요청\n",
    "url = f'https://music.bugs.co.kr/genre/chart/kpop/{genre}/total/day'\n",
    "res = req.get(url, headers = header)\n",
    "# 파이썬 객체변환\n",
    "html = bs(res.text, 'lxml')"
   ]
  },
  {
   "cell_type": "code",
   "execution_count": 3,
   "id": "3daf3240",
   "metadata": {
    "ExecuteTime": {
     "end_time": "2023-02-06T13:56:27.626345Z",
     "start_time": "2023-02-06T13:56:27.578285Z"
    }
   },
   "outputs": [],
   "source": [
    "# 발라드장르 순위에서 곡별 앨범정보에 접근할수있는 링크 url 리스트 추출하기\n",
    "album = html.select('.thumbnail')\n",
    "album_url_lst = [i.attrs['href'] for i in album]"
   ]
  },
  {
   "cell_type": "code",
   "execution_count": 9,
   "id": "0ca4ac77",
   "metadata": {
    "ExecuteTime": {
     "end_time": "2023-02-06T13:59:04.000733Z",
     "start_time": "2023-02-06T13:58:43.127629Z"
    },
    "scrolled": true
   },
   "outputs": [],
   "source": [
    "# 곡명, 가수명, 앨범사진src링크 빈리스트 선언\n",
    "song_lst = []\n",
    "singer_lst = []\n",
    "src_lst = []\n",
    "\n",
    "# 앨범정보 url에 접근하여 곡명, 가수명, src링크 리스트에 데이터 담기\n",
    "for i in album_url_lst:\n",
    "    # url요청및 파이썬 객체변환\n",
    "    album_res = req.get(i, headers = header)\n",
    "    album_html = bs(album_res.text, 'lxml')\n",
    "    \n",
    "    # 추출할 정보에 접근\n",
    "    song = album_html.select('.innerContainer>h1')\n",
    "    singer = album_html.select('.info a')\n",
    "    src = album_html.select('.big img')\n",
    "    \n",
    "    # 추출한 정보 담기\n",
    "    song_lst.append(song[0].text)\n",
    "    singer_lst.append(singer[0].text.strip())\n",
    "    src_lst.append(src[0].attrs['src'])"
   ]
  },
  {
   "cell_type": "code",
   "execution_count": 10,
   "id": "1e43aec9",
   "metadata": {
    "ExecuteTime": {
     "end_time": "2023-02-06T13:59:17.160170Z",
     "start_time": "2023-02-06T13:59:17.153214Z"
    },
    "scrolled": true
   },
   "outputs": [
    {
     "data": {
      "text/plain": [
       "['나얼 <Ballad Pop City>',\n",
       " 'Monologue',\n",
       " '별에서 온 그대 (SBS 수목드라마) OST - Part.7',\n",
       " 'Say I Love You (Re : WIND 4MEN Vol.04)',\n",
       " '그댄 행복에 살텐데 (2022)',\n",
       " '마지막 사랑',\n",
       " '해요 (2022)',\n",
       " '다정히 내 이름을 부르면 (경서예지 x 전건호)',\n",
       " 'WSG워너비 1집',\n",
       " '취중고백',\n",
       " '나의 X에게',\n",
       " \"'키스 먼저 할까요?' OST Part.3\",\n",
       " '신사와 아가씨 OST Part.2',\n",
       " '그대를 알고',\n",
       " '우린 그렇게 사랑해서',\n",
       " '조각집',\n",
       " '내가 아니라도',\n",
       " '그 해 우리는 OST Part.5',\n",
       " '잘가요',\n",
       " '떠나보낼 준비해 둘걸 그랬어',\n",
       " 'Season Note',\n",
       " '나얼 <Ballad Pop City>',\n",
       " '사랑해도 될까요',\n",
       " '니 번호가 뜨는 일',\n",
       " '눈이 오잖아(Feat.헤이즈)',\n",
       " '나의 아저씨 (tvN 수목드라마) OST - Part.2',\n",
       " '국화꽃 향기: 희재 (Scent Of Love)',\n",
       " '사랑의 이해 OST Part.7',\n",
       " '진심이었던 사람만 바보가 돼',\n",
       " '가슴으로 운다',\n",
       " '덤덤하게 또, 안녕 (YAOKI Project part.2)',\n",
       " '혼잣말 獨白',\n",
       " '우리의 디데이 OST Part.3',\n",
       " '항해',\n",
       " '복면가왕 47회',\n",
       " '헤어지던 밤',\n",
       " '밤하늘의 별을(2020)',\n",
       " '밤편지',\n",
       " '이 겨울이 지나면 그땐 봄이 올까요',\n",
       " '스티커 사진',\n",
       " '미련을 말하는',\n",
       " 'Red Moon : To You My Light',\n",
       " '그 해 우리는 OST Part.1',\n",
       " '사계 (Four Seasons)',\n",
       " '그래서 그대는',\n",
       " '나의 모양',\n",
       " 'IM HERO',\n",
       " '세상에 없는 계절',\n",
       " 'LOVE & HATE',\n",
       " 'The Ballads',\n",
       " '듣고 싶을까',\n",
       " '와스레나이 (Prod By D-Hack)',\n",
       " 'Moonlight',\n",
       " 'Audition (Time2Rock)',\n",
       " 'ANTIFRAGILE',\n",
       " 'MSG워너비 1집',\n",
       " '애인',\n",
       " 'Love poem',\n",
       " '사랑의 불시착 OST Part 11',\n",
       " '시든 꽃에 물을 주듯',\n",
       " \"바보에게 바보가 (웹툰 '연애의 발견' X 이석훈)\",\n",
       " '호텔 델루나 OST Part.3',\n",
       " 'Butterfly Effect',\n",
       " \"세 번째 '고백'\",\n",
       " 'Morning Of Buzz',\n",
       " '사랑한다고 말해줘',\n",
       " '늦은 밤 너의 집 앞 골목길에서',\n",
       " '오래된 노래',\n",
       " '취기를 빌려 (취향저격 그녀 X 산들)',\n",
       " '연애플레이리스트2 (웹드라마) OST - part.2',\n",
       " '사랑의 이해 OST Part.8',\n",
       " 'Buzz Effect',\n",
       " '또 오해영 (tvN 월화드라마) OST - Part.5',\n",
       " '조각집',\n",
       " '호텔 델루나 OST Part.10',\n",
       " '우리들의 블루스 OST Part 2',\n",
       " '너를 만나',\n",
       " '이러면 안 될 거 아는데 너 앞에만 서면 나락',\n",
       " \"IU 5th Album 'LILAC'\",\n",
       " 'We Hate All Kinds Of Violence',\n",
       " '선물',\n",
       " \"겨울 스페셜 앨범 '12월의 기적 (Miracles in December)’\",\n",
       " '가까운 듯 먼 그대여',\n",
       " '그 해 우리는 OST Part.2',\n",
       " '너의 번호를 누르고',\n",
       " '이태원 클라쓰 OST Part.6',\n",
       " \"The 1st Mini Album '광화문에서 (At Gwanghwamun)'\",\n",
       " 'LISTEN 010 좋니',\n",
       " '나무',\n",
       " '고백연습',\n",
       " \"Can't Control Myself\",\n",
       " 'inside',\n",
       " 'FEARLESS',\n",
       " 'The First Journey',\n",
       " '그 겨울이 잠든 거리에서 (경서예지 x 전건호)',\n",
       " '흩어지지 않게',\n",
       " 'pathos',\n",
       " '통화연결음',\n",
       " '이 소설의 끝을 다시 써보려 해',\n",
       " '모든 계절은 너였다']"
      ]
     },
     "execution_count": 10,
     "metadata": {},
     "output_type": "execute_result"
    }
   ],
   "source": [
    "song_lst"
   ]
  },
  {
   "cell_type": "code",
   "execution_count": 11,
   "id": "4c74dc4f",
   "metadata": {
    "ExecuteTime": {
     "end_time": "2023-02-06T13:59:20.702622Z",
     "start_time": "2023-02-06T13:59:20.694515Z"
    },
    "scrolled": true
   },
   "outputs": [
    {
     "data": {
      "text/plain": [
       "['태연 (TAEYEON)',\n",
       " '테이(Tei)',\n",
       " '성시경',\n",
       " '우디(Woody)',\n",
       " '최유리',\n",
       " '신예영',\n",
       " '#안녕',\n",
       " '경서예지',\n",
       " 'WSG워너비',\n",
       " '김민석 (멜로망스)',\n",
       " '경서',\n",
       " '폴킴(Paul Kim)\\r\\n\\t\\t\\t\\t\\t\\t\\t\\t\\t\\t\\tCONNECT 아티스트',\n",
       " '임영웅',\n",
       " '송하예',\n",
       " '강민경',\n",
       " '아이유(IU)',\n",
       " '주호',\n",
       " 'V',\n",
       " '주호',\n",
       " '임한별',\n",
       " '다비치',\n",
       " '성시경',\n",
       " '양다일',\n",
       " '이예준',\n",
       " '이무진',\n",
       " 'Sondia',\n",
       " '발라드',\n",
       " '경서',\n",
       " '권진아',\n",
       " '김연지',\n",
       " '양요섭',\n",
       " '신예영',\n",
       " '카더가든',\n",
       " 'AKMU(악뮤)',\n",
       " '댄스/팝',\n",
       " '보라미유',\n",
       " '경서',\n",
       " '아이유(IU)',\n",
       " '전상근',\n",
       " '21학번',\n",
       " '한동근',\n",
       " '마크툽(MAKTUB)',\n",
       " '10CM',\n",
       " '태연 (TAEYEON)',\n",
       " '이영현',\n",
       " '권진아',\n",
       " '임영웅',\n",
       " '임재현',\n",
       " '케이시',\n",
       " '성시경',\n",
       " 'MSG워너비(M.O.M)',\n",
       " '다나카(TANAKA)',\n",
       " '멜로망스(MeloMance)',\n",
       " '윤하(Younha/ユンナ)',\n",
       " 'LE SSERAFIM (르세라핌)',\n",
       " 'MSG워너비',\n",
       " '테이(Tei)',\n",
       " '아이유(IU)',\n",
       " '아이유(IU)',\n",
       " 'HYNN(박혜원)',\n",
       " '이석훈',\n",
       " '태연 (TAEYEON)',\n",
       " '볼빨간사춘기',\n",
       " '멜로망스(MeloMance)',\n",
       " '버즈',\n",
       " '탑현',\n",
       " '노을',\n",
       " '스탠딩 에그(Standing Egg)',\n",
       " '산들',\n",
       " '폴킴(Paul Kim)\\r\\n\\t\\t\\t\\t\\t\\t\\t\\t\\t\\t\\tCONNECT 아티스트',\n",
       " '민서 (MINSEO)',\n",
       " '버즈',\n",
       " '정승환',\n",
       " '아이유(IU)',\n",
       " '폴킴(Paul Kim)\\r\\n\\t\\t\\t\\t\\t\\t\\t\\t\\t\\t\\tCONNECT 아티스트',\n",
       " '헤이즈(Heize)',\n",
       " '폴킴(Paul Kim)\\r\\n\\t\\t\\t\\t\\t\\t\\t\\t\\t\\t\\tCONNECT 아티스트',\n",
       " '딘딘 (DINDIN)',\n",
       " '아이유(IU)',\n",
       " 'H.O.T.',\n",
       " '백예린 (Yerin Baek)',\n",
       " 'EXO',\n",
       " '카더가든',\n",
       " '비비(BIBI)',\n",
       " '#안녕',\n",
       " '김필(Kim Feel)',\n",
       " '규현 (KYUHYUN)',\n",
       " '윤종신',\n",
       " '카더가든',\n",
       " '경서',\n",
       " '태연 (TAEYEON)',\n",
       " '양다일',\n",
       " 'LE SSERAFIM (르세라핌)',\n",
       " '테이(Tei)',\n",
       " '경서예지',\n",
       " '엠씨더맥스 (M.C the MAX)',\n",
       " '엠씨더맥스 (M.C the MAX)',\n",
       " '보라미유',\n",
       " '테이(Tei)',\n",
       " '길구봉구']"
      ]
     },
     "execution_count": 11,
     "metadata": {},
     "output_type": "execute_result"
    }
   ],
   "source": [
    "singer_lst"
   ]
  },
  {
   "cell_type": "code",
   "execution_count": 12,
   "id": "bf140aa3",
   "metadata": {
    "ExecuteTime": {
     "end_time": "2023-02-06T13:59:23.734389Z",
     "start_time": "2023-02-06T13:59:23.723100Z"
    },
    "scrolled": true
   },
   "outputs": [
    {
     "data": {
      "text/plain": [
       "['https://image.bugsm.co.kr/album/images/200/40834/4083499.jpg?version=20230203064409.0',\n",
       " 'https://image.bugsm.co.kr/album/images/200/40798/4079823.jpg?version=20221022004025.0',\n",
       " 'https://image.bugsm.co.kr/album/images/200/4132/413209.jpg?version=20210204110908.0',\n",
       " 'https://image.bugsm.co.kr/album/images/200/205359/20535938.jpg?version=20221222002623.0',\n",
       " 'https://image.bugsm.co.kr/album/images/200/205367/20536736.jpg?version=20230104002539.0',\n",
       " 'https://image.bugsm.co.kr/album/images/200/40830/4083020.jpg?version=20230204014524.0',\n",
       " 'https://image.bugsm.co.kr/album/images/200/204720/20472041.jpg?version=20221201005747.0',\n",
       " 'https://image.bugsm.co.kr/album/images/200/40452/4045282.jpg?version=20210520063840.0',\n",
       " 'https://image.bugsm.co.kr/album/images/200/40775/4077595.jpg?version=20221216020851.0',\n",
       " 'https://image.bugsm.co.kr/album/images/200/40691/4069154.jpg?version=20211219180024.0',\n",
       " 'https://image.bugsm.co.kr/album/images/200/40747/4074701.jpg?version=20220425063233.0',\n",
       " 'https://image.bugsm.co.kr/album/images/200/201547/20154722.jpg?version=20190515013457.0',\n",
       " 'https://image.bugsm.co.kr/album/images/200/40658/4065831.jpg?version=20211106011825.0',\n",
       " 'https://image.bugsm.co.kr/album/images/200/40822/4082235.jpg?version=20221214064224.0',\n",
       " 'https://image.bugsm.co.kr/album/images/200/204951/20495162.jpg?version=20220929011304.0',\n",
       " 'https://image.bugsm.co.kr/album/images/200/40695/4069567.jpg?version=20220104003927.0',\n",
       " 'https://image.bugsm.co.kr/album/images/200/40732/4073229.jpg?version=20220325180012.0',\n",
       " 'https://image.bugsm.co.kr/album/images/200/40693/4069371.jpg?version=20220104004057.0',\n",
       " 'https://image.bugsm.co.kr/album/images/200/40820/4082024.jpg?version=20221213014512.0',\n",
       " 'https://image.bugsm.co.kr/album/images/200/40807/4080735.jpg?version=20230117021424.0',\n",
       " 'https://image.bugsm.co.kr/album/images/200/204681/20468120.jpg?version=20220518014558.0',\n",
       " 'https://image.bugsm.co.kr/album/images/200/40826/4082656.jpg?version=20230119022533.0',\n",
       " 'https://image.bugsm.co.kr/album/images/200/40830/4083088.jpg?version=20230116063405.0',\n",
       " 'https://image.bugsm.co.kr/album/images/200/40831/4083125.jpg?version=20230119014034.0',\n",
       " 'https://image.bugsm.co.kr/album/images/200/40684/4068421.jpg?version=20211204070250.0',\n",
       " 'https://image.bugsm.co.kr/album/images/200/201567/20156782.jpg?version=20211216040955.0',\n",
       " 'https://image.bugsm.co.kr/album/images/200/90006/9000635.jpg?version=20211216021442.0',\n",
       " 'https://image.bugsm.co.kr/album/images/200/40832/4083273.jpg?version=20230126014049.0',\n",
       " 'https://image.bugsm.co.kr/album/images/200/40805/4080594.jpg?version=20221014064015.0',\n",
       " 'https://image.bugsm.co.kr/album/images/200/40829/4082994.jpg?version=20230112064318.0',\n",
       " 'https://image.bugsm.co.kr/album/images/200/40835/4083572.jpg?version=20230206180008.0',\n",
       " 'https://image.bugsm.co.kr/album/images/200/40832/4083251.jpg?version=20230125063858.0',\n",
       " 'https://image.bugsm.co.kr/album/images/200/40835/4083573.jpg?version=20230205180002.0',\n",
       " 'https://image.bugsm.co.kr/album/images/200/202788/20278851.jpg?version=20210727012601.0',\n",
       " 'https://image.bugsm.co.kr/album/images/200/5486/548651.jpg?version=20210925003443.0',\n",
       " 'https://image.bugsm.co.kr/album/images/200/40835/4083529.jpg?version=20230204071805.0',\n",
       " 'https://image.bugsm.co.kr/album/images/200/40141/4014150.jpg?version=20210422183751.0',\n",
       " 'https://image.bugsm.co.kr/album/images/200/200890/20089092.jpg?version=20220301014959.0',\n",
       " 'https://image.bugsm.co.kr/album/images/200/40835/4083567.jpg?version=20230204180001.0',\n",
       " 'https://image.bugsm.co.kr/album/images/200/40776/4077612.jpg?version=20221209010520.0',\n",
       " 'https://image.bugsm.co.kr/album/images/200/40782/4078263.jpg?version=20220803014943.0',\n",
       " 'https://image.bugsm.co.kr/album/images/200/8920/892073.jpg?version=20210113002357.0',\n",
       " 'https://image.bugsm.co.kr/album/images/200/40685/4068583.jpg?version=20211214011549.0',\n",
       " 'https://image.bugsm.co.kr/album/images/200/202401/20240141.jpg?version=20220708002350.0',\n",
       " 'https://image.bugsm.co.kr/album/images/200/40804/4080483.jpg?version=20221011063729.0',\n",
       " 'https://image.bugsm.co.kr/album/images/200/202775/20277573.jpg?version=20210422183751.0',\n",
       " 'https://image.bugsm.co.kr/album/images/200/204625/20462525.jpg?version=20220504013817.0',\n",
       " 'https://image.bugsm.co.kr/album/images/200/40833/4083322.jpg?version=20230201020523.0',\n",
       " 'https://image.bugsm.co.kr/album/images/200/40758/4075823.jpg?version=20220520063445.0',\n",
       " 'https://image.bugsm.co.kr/album/images/200/80222/8022207.jpg?version=20211215012901.0',\n",
       " 'https://image.bugsm.co.kr/album/images/200/204533/20453371.jpg?version=20220227011607.0',\n",
       " 'https://image.bugsm.co.kr/album/images/200/40816/4081610.jpg?version=20221120064217.0',\n",
       " 'https://image.bugsm.co.kr/album/images/200/201074/20107410.jpg?version=20220324021603.0',\n",
       " 'https://image.bugsm.co.kr/album/images/200/80232/8023243.jpg?version=20211215005623.0',\n",
       " 'https://image.bugsm.co.kr/album/images/200/40807/4080706.jpg?version=20221115025821.0',\n",
       " 'https://image.bugsm.co.kr/album/images/200/204054/20405430.jpg?version=20210710002350.0',\n",
       " 'https://image.bugsm.co.kr/album/images/200/80246/8024661.jpg?version=20211215013753.0',\n",
       " 'https://image.bugsm.co.kr/album/images/200/202860/20286013.jpg?version=20211231013724.0',\n",
       " 'https://image.bugsm.co.kr/album/images/200/203063/20306376.jpg?version=20210422183751.0',\n",
       " 'https://image.bugsm.co.kr/album/images/200/202421/20242177.jpg?version=20210422183751.0',\n",
       " 'https://image.bugsm.co.kr/album/images/200/40776/4077616.jpg?version=20220712211106.0',\n",
       " 'https://image.bugsm.co.kr/album/images/200/202667/20266778.jpg?version=20210902181012.0',\n",
       " 'https://image.bugsm.co.kr/album/images/200/40665/4066507.jpg?version=20211027003705.0',\n",
       " 'https://image.bugsm.co.kr/album/images/200/40643/4064302.jpg?version=20220106003107.0',\n",
       " 'https://image.bugsm.co.kr/album/images/200/328/32889.jpg?version=20220324025102.0',\n",
       " 'https://image.bugsm.co.kr/album/images/200/40784/4078489.jpg?version=20220812004904.0',\n",
       " 'https://image.bugsm.co.kr/album/images/200/202871/20287171.jpg?version=20210422183751.0',\n",
       " 'https://image.bugsm.co.kr/album/images/200/3400/340045.jpg?version=20210422183751.0',\n",
       " 'https://image.bugsm.co.kr/album/images/200/9887/988734.jpg?version=20210422183751.0',\n",
       " 'https://image.bugsm.co.kr/album/images/200/201094/20109456.jpg?version=20210702160034.0',\n",
       " 'https://image.bugsm.co.kr/album/images/200/40834/4083489.jpg?version=20230204031001.0',\n",
       " 'https://image.bugsm.co.kr/album/images/200/80070/8007002.jpg?version=20220324024900.0',\n",
       " 'https://image.bugsm.co.kr/album/images/200/200381/20038153.jpg?version=20211216040733.0',\n",
       " 'https://image.bugsm.co.kr/album/images/200/40695/4069567.jpg?version=20220104003927.0',\n",
       " 'https://image.bugsm.co.kr/album/images/200/202708/20270833.jpg?version=20210902181015.0',\n",
       " 'https://image.bugsm.co.kr/album/images/200/204625/20462501.jpg?version=20220416180004.0',\n",
       " 'https://image.bugsm.co.kr/album/images/200/202037/20203701.jpg?version=20210422183751.0',\n",
       " 'https://image.bugsm.co.kr/album/images/200/204260/20426040.jpg?version=20211218013951.0',\n",
       " 'https://image.bugsm.co.kr/album/images/200/40271/4027185.jpg?version=20221119004352.0',\n",
       " 'https://image.bugsm.co.kr/album/images/200/52/5280.jpg?version=20211215005110.0',\n",
       " 'https://image.bugsm.co.kr/album/images/200/204200/20420099.jpg?version=20210917004524.0',\n",
       " 'https://image.bugsm.co.kr/album/images/200/4005/400586.jpg?version=20211216004142.0',\n",
       " 'https://image.bugsm.co.kr/album/images/200/40641/4064174.jpg?version=20230103015458.0',\n",
       " 'https://image.bugsm.co.kr/album/images/200/40688/4068832.jpg?version=20211216015400.0',\n",
       " 'https://image.bugsm.co.kr/album/images/200/9589/958964.jpg?version=20201216092743.0',\n",
       " 'https://image.bugsm.co.kr/album/images/200/203063/20306355.jpg?version=20210902142324.0',\n",
       " 'https://image.bugsm.co.kr/album/images/200/4631/463165.jpg?version=20220720015404.0',\n",
       " 'https://image.bugsm.co.kr/album/images/200/201042/20104243.jpg?version=20220301010017.0',\n",
       " 'https://image.bugsm.co.kr/album/images/200/202466/20246648.jpg?version=20221105010315.0',\n",
       " 'https://image.bugsm.co.kr/album/images/200/40811/4081117.jpg?version=20221103055900.0',\n",
       " 'https://image.bugsm.co.kr/album/images/200/204459/20445945.jpg?version=20220118004938.0',\n",
       " 'https://image.bugsm.co.kr/album/images/200/201385/20138554.jpg?version=20210422183751.0',\n",
       " 'https://image.bugsm.co.kr/album/images/200/40751/4075173.jpg?version=20221014002609.0',\n",
       " 'https://image.bugsm.co.kr/album/images/200/80000/8000045.jpg?version=20211215012605.0',\n",
       " 'https://image.bugsm.co.kr/album/images/200/40822/4082201.jpg?version=20221212063400.0',\n",
       " 'https://image.bugsm.co.kr/album/images/200/40820/4082031.jpg?version=20221206063859.0',\n",
       " 'https://image.bugsm.co.kr/album/images/200/200194/20019407.jpg?version=20200827002558.0',\n",
       " 'https://image.bugsm.co.kr/album/images/200/40787/4078704.jpg?version=20221021004946.0',\n",
       " 'https://image.bugsm.co.kr/album/images/200/40826/4082675.jpg?version=20221229063847.0',\n",
       " 'https://image.bugsm.co.kr/album/images/200/40814/4081467.jpg?version=20221114064152.0']"
      ]
     },
     "execution_count": 12,
     "metadata": {},
     "output_type": "execute_result"
    }
   ],
   "source": [
    "src_lst"
   ]
  },
  {
   "cell_type": "code",
   "execution_count": 13,
   "id": "9d0464b7",
   "metadata": {
    "ExecuteTime": {
     "end_time": "2023-02-06T14:00:55.236383Z",
     "start_time": "2023-02-06T14:00:55.221456Z"
    }
   },
   "outputs": [],
   "source": [
    "# 곡명, 가수명, src 딕셔너리 정의\n",
    "ballad_dict = {'곡명':song_lst , '가수명':singer_lst, 'src':src_lst}"
   ]
  },
  {
   "cell_type": "code",
   "execution_count": 14,
   "id": "5e009957",
   "metadata": {
    "ExecuteTime": {
     "end_time": "2023-02-06T14:01:15.395996Z",
     "start_time": "2023-02-06T14:01:15.378258Z"
    }
   },
   "outputs": [],
   "source": [
    "# 데이터 프레임 구성\n",
    "ballad_df = pd.DataFrame(ballad_dict)"
   ]
  },
  {
   "cell_type": "code",
   "execution_count": 15,
   "id": "080da840",
   "metadata": {
    "ExecuteTime": {
     "end_time": "2023-02-06T14:01:19.971441Z",
     "start_time": "2023-02-06T14:01:19.948032Z"
    },
    "scrolled": true
   },
   "outputs": [
    {
     "data": {
      "text/html": [
       "<div>\n",
       "<style scoped>\n",
       "    .dataframe tbody tr th:only-of-type {\n",
       "        vertical-align: middle;\n",
       "    }\n",
       "\n",
       "    .dataframe tbody tr th {\n",
       "        vertical-align: top;\n",
       "    }\n",
       "\n",
       "    .dataframe thead th {\n",
       "        text-align: right;\n",
       "    }\n",
       "</style>\n",
       "<table border=\"1\" class=\"dataframe\">\n",
       "  <thead>\n",
       "    <tr style=\"text-align: right;\">\n",
       "      <th></th>\n",
       "      <th>곡명</th>\n",
       "      <th>가수명</th>\n",
       "      <th>src</th>\n",
       "    </tr>\n",
       "  </thead>\n",
       "  <tbody>\n",
       "    <tr>\n",
       "      <th>0</th>\n",
       "      <td>나얼 &lt;Ballad Pop City&gt;</td>\n",
       "      <td>태연 (TAEYEON)</td>\n",
       "      <td>https://image.bugsm.co.kr/album/images/200/408...</td>\n",
       "    </tr>\n",
       "    <tr>\n",
       "      <th>1</th>\n",
       "      <td>Monologue</td>\n",
       "      <td>테이(Tei)</td>\n",
       "      <td>https://image.bugsm.co.kr/album/images/200/407...</td>\n",
       "    </tr>\n",
       "    <tr>\n",
       "      <th>2</th>\n",
       "      <td>별에서 온 그대 (SBS 수목드라마) OST - Part.7</td>\n",
       "      <td>성시경</td>\n",
       "      <td>https://image.bugsm.co.kr/album/images/200/413...</td>\n",
       "    </tr>\n",
       "    <tr>\n",
       "      <th>3</th>\n",
       "      <td>Say I Love You (Re : WIND 4MEN Vol.04)</td>\n",
       "      <td>우디(Woody)</td>\n",
       "      <td>https://image.bugsm.co.kr/album/images/200/205...</td>\n",
       "    </tr>\n",
       "    <tr>\n",
       "      <th>4</th>\n",
       "      <td>그댄 행복에 살텐데 (2022)</td>\n",
       "      <td>최유리</td>\n",
       "      <td>https://image.bugsm.co.kr/album/images/200/205...</td>\n",
       "    </tr>\n",
       "    <tr>\n",
       "      <th>...</th>\n",
       "      <td>...</td>\n",
       "      <td>...</td>\n",
       "      <td>...</td>\n",
       "    </tr>\n",
       "    <tr>\n",
       "      <th>95</th>\n",
       "      <td>흩어지지 않게</td>\n",
       "      <td>엠씨더맥스 (M.C the MAX)</td>\n",
       "      <td>https://image.bugsm.co.kr/album/images/200/408...</td>\n",
       "    </tr>\n",
       "    <tr>\n",
       "      <th>96</th>\n",
       "      <td>pathos</td>\n",
       "      <td>엠씨더맥스 (M.C the MAX)</td>\n",
       "      <td>https://image.bugsm.co.kr/album/images/200/200...</td>\n",
       "    </tr>\n",
       "    <tr>\n",
       "      <th>97</th>\n",
       "      <td>통화연결음</td>\n",
       "      <td>보라미유</td>\n",
       "      <td>https://image.bugsm.co.kr/album/images/200/407...</td>\n",
       "    </tr>\n",
       "    <tr>\n",
       "      <th>98</th>\n",
       "      <td>이 소설의 끝을 다시 써보려 해</td>\n",
       "      <td>테이(Tei)</td>\n",
       "      <td>https://image.bugsm.co.kr/album/images/200/408...</td>\n",
       "    </tr>\n",
       "    <tr>\n",
       "      <th>99</th>\n",
       "      <td>모든 계절은 너였다</td>\n",
       "      <td>길구봉구</td>\n",
       "      <td>https://image.bugsm.co.kr/album/images/200/408...</td>\n",
       "    </tr>\n",
       "  </tbody>\n",
       "</table>\n",
       "<p>100 rows × 3 columns</p>\n",
       "</div>"
      ],
      "text/plain": [
       "                                        곡명                  가수명  \\\n",
       "0                     나얼 <Ballad Pop City>         태연 (TAEYEON)   \n",
       "1                                Monologue              테이(Tei)   \n",
       "2        별에서 온 그대 (SBS 수목드라마) OST - Part.7                  성시경   \n",
       "3   Say I Love You (Re : WIND 4MEN Vol.04)            우디(Woody)   \n",
       "4                        그댄 행복에 살텐데 (2022)                  최유리   \n",
       "..                                     ...                  ...   \n",
       "95                                 흩어지지 않게  엠씨더맥스 (M.C the MAX)   \n",
       "96                                  pathos  엠씨더맥스 (M.C the MAX)   \n",
       "97                                   통화연결음                 보라미유   \n",
       "98                       이 소설의 끝을 다시 써보려 해              테이(Tei)   \n",
       "99                              모든 계절은 너였다                 길구봉구   \n",
       "\n",
       "                                                  src  \n",
       "0   https://image.bugsm.co.kr/album/images/200/408...  \n",
       "1   https://image.bugsm.co.kr/album/images/200/407...  \n",
       "2   https://image.bugsm.co.kr/album/images/200/413...  \n",
       "3   https://image.bugsm.co.kr/album/images/200/205...  \n",
       "4   https://image.bugsm.co.kr/album/images/200/205...  \n",
       "..                                                ...  \n",
       "95  https://image.bugsm.co.kr/album/images/200/408...  \n",
       "96  https://image.bugsm.co.kr/album/images/200/200...  \n",
       "97  https://image.bugsm.co.kr/album/images/200/407...  \n",
       "98  https://image.bugsm.co.kr/album/images/200/408...  \n",
       "99  https://image.bugsm.co.kr/album/images/200/408...  \n",
       "\n",
       "[100 rows x 3 columns]"
      ]
     },
     "execution_count": 15,
     "metadata": {},
     "output_type": "execute_result"
    }
   ],
   "source": [
    "ballad_df"
   ]
  },
  {
   "cell_type": "code",
   "execution_count": 16,
   "id": "012bbff1",
   "metadata": {
    "ExecuteTime": {
     "end_time": "2023-02-06T14:02:58.783344Z",
     "start_time": "2023-02-06T14:02:58.660077Z"
    }
   },
   "outputs": [],
   "source": [
    "# 엑셀파일로 저장하기\n",
    "ballad_df.to_excel('./ballad100차트.xlsx', index = False)"
   ]
  }
 ],
 "metadata": {
  "kernelspec": {
   "display_name": "Python 3 (ipykernel)",
   "language": "python",
   "name": "python3"
  },
  "language_info": {
   "codemirror_mode": {
    "name": "ipython",
    "version": 3
   },
   "file_extension": ".py",
   "mimetype": "text/x-python",
   "name": "python",
   "nbconvert_exporter": "python",
   "pygments_lexer": "ipython3",
   "version": "3.9.13"
  },
  "toc": {
   "base_numbering": 1,
   "nav_menu": {},
   "number_sections": true,
   "sideBar": true,
   "skip_h1_title": false,
   "title_cell": "Table of Contents",
   "title_sidebar": "Contents",
   "toc_cell": false,
   "toc_position": {},
   "toc_section_display": true,
   "toc_window_display": false
  },
  "varInspector": {
   "cols": {
    "lenName": 16,
    "lenType": 16,
    "lenVar": 40
   },
   "kernels_config": {
    "python": {
     "delete_cmd_postfix": "",
     "delete_cmd_prefix": "del ",
     "library": "var_list.py",
     "varRefreshCmd": "print(var_dic_list())"
    },
    "r": {
     "delete_cmd_postfix": ") ",
     "delete_cmd_prefix": "rm(",
     "library": "var_list.r",
     "varRefreshCmd": "cat(var_dic_list()) "
    }
   },
   "types_to_exclude": [
    "module",
    "function",
    "builtin_function_or_method",
    "instance",
    "_Feature"
   ],
   "window_display": false
  }
 },
 "nbformat": 4,
 "nbformat_minor": 5
}
