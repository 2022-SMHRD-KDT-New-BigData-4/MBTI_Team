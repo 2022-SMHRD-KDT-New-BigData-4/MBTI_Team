{
 "cells": [
  {
   "cell_type": "code",
   "execution_count": 3,
   "id": "0ac2ea60",
   "metadata": {
    "ExecuteTime": {
     "end_time": "2023-02-24T00:28:58.951345Z",
     "start_time": "2023-02-24T00:28:58.644259Z"
    }
   },
   "outputs": [],
   "source": [
    "from selenium import webdriver as wb\n",
    "from selenium.webdriver.common.by import By\n",
    "from selenium.webdriver.common.keys import Keys\n",
    "import time # 딜레이 기능 - sleep(초)\n",
    "\n",
    "# 판다스\n",
    "import pandas as pd"
   ]
  },
  {
   "cell_type": "code",
   "execution_count": 4,
   "id": "cf55d5f1",
   "metadata": {
    "ExecuteTime": {
     "end_time": "2023-02-24T00:28:59.261605Z",
     "start_time": "2023-02-24T00:28:59.253595Z"
    }
   },
   "outputs": [],
   "source": [
    "# 특수문자 인코딩 용\n",
    "import urllib.parse"
   ]
  },
  {
   "cell_type": "code",
   "execution_count": 5,
   "id": "e23a5ede",
   "metadata": {
    "ExecuteTime": {
     "end_time": "2023-02-24T00:29:00.059367Z",
     "start_time": "2023-02-24T00:28:59.573542Z"
    }
   },
   "outputs": [],
   "source": [
    "song_df = pd.read_excel('music.xlsx') "
   ]
  },
  {
   "cell_type": "code",
   "execution_count": 6,
   "id": "bb8ffa68",
   "metadata": {
    "ExecuteTime": {
     "end_time": "2023-02-24T00:29:00.325619Z",
     "start_time": "2023-02-24T00:29:00.310686Z"
    }
   },
   "outputs": [
    {
     "data": {
      "text/html": [
       "<div>\n",
       "<style scoped>\n",
       "    .dataframe tbody tr th:only-of-type {\n",
       "        vertical-align: middle;\n",
       "    }\n",
       "\n",
       "    .dataframe tbody tr th {\n",
       "        vertical-align: top;\n",
       "    }\n",
       "\n",
       "    .dataframe thead th {\n",
       "        text-align: right;\n",
       "    }\n",
       "</style>\n",
       "<table border=\"1\" class=\"dataframe\">\n",
       "  <thead>\n",
       "    <tr style=\"text-align: right;\">\n",
       "      <th></th>\n",
       "      <th>곡명</th>\n",
       "      <th>가수명</th>\n",
       "      <th>src</th>\n",
       "      <th>장르</th>\n",
       "    </tr>\n",
       "  </thead>\n",
       "  <tbody>\n",
       "    <tr>\n",
       "      <th>0</th>\n",
       "      <td>너의 모든 순간</td>\n",
       "      <td>성시경</td>\n",
       "      <td>https://image.bugsm.co.kr/album/images/200/413...</td>\n",
       "      <td>ballad</td>\n",
       "    </tr>\n",
       "    <tr>\n",
       "      <th>1</th>\n",
       "      <td>Monologue</td>\n",
       "      <td>테이(Tei)</td>\n",
       "      <td>https://image.bugsm.co.kr/album/images/200/407...</td>\n",
       "      <td>ballad</td>\n",
       "    </tr>\n",
       "    <tr>\n",
       "      <th>2</th>\n",
       "      <td>혼자서 걸어요 (Prod. by 나얼)</td>\n",
       "      <td>태연 (TAEYEON)</td>\n",
       "      <td>https://image.bugsm.co.kr/album/images/200/408...</td>\n",
       "      <td>ballad</td>\n",
       "    </tr>\n",
       "    <tr>\n",
       "      <th>3</th>\n",
       "      <td>Say I Love You</td>\n",
       "      <td>우디(Woody)</td>\n",
       "      <td>https://image.bugsm.co.kr/album/images/200/205...</td>\n",
       "      <td>ballad</td>\n",
       "    </tr>\n",
       "    <tr>\n",
       "      <th>4</th>\n",
       "      <td>그댄 행복에 살텐데 (2022)</td>\n",
       "      <td>최유리</td>\n",
       "      <td>https://image.bugsm.co.kr/album/images/200/205...</td>\n",
       "      <td>ballad</td>\n",
       "    </tr>\n",
       "    <tr>\n",
       "      <th>...</th>\n",
       "      <td>...</td>\n",
       "      <td>...</td>\n",
       "      <td>...</td>\n",
       "      <td>...</td>\n",
       "    </tr>\n",
       "    <tr>\n",
       "      <th>795</th>\n",
       "      <td>THREAT</td>\n",
       "      <td>Rex Orange County(렉스 오렌지 카운티)</td>\n",
       "      <td>https://image.bugsm.co.kr/album/images/200/189...</td>\n",
       "      <td>pop</td>\n",
       "    </tr>\n",
       "    <tr>\n",
       "      <th>796</th>\n",
       "      <td>I Don’t Think That I Like Her</td>\n",
       "      <td>Charlie Puth(찰리 푸스)</td>\n",
       "      <td>https://image.bugsm.co.kr/album/images/200/408...</td>\n",
       "      <td>pop</td>\n",
       "    </tr>\n",
       "    <tr>\n",
       "      <th>797</th>\n",
       "      <td>IT'S YOU (feat. keshi)</td>\n",
       "      <td>MAX(맥스)</td>\n",
       "      <td>https://image.bugsm.co.kr/album/images/200/193...</td>\n",
       "      <td>pop</td>\n",
       "    </tr>\n",
       "    <tr>\n",
       "      <th>798</th>\n",
       "      <td>Nancy Got A Haircut</td>\n",
       "      <td>Alec Benjamin(알렉 벤자민)</td>\n",
       "      <td>https://image.bugsm.co.kr/album/images/200/176...</td>\n",
       "      <td>pop</td>\n",
       "    </tr>\n",
       "    <tr>\n",
       "      <th>799</th>\n",
       "      <td>Bonfire</td>\n",
       "      <td>Peder Elias</td>\n",
       "      <td>https://image.bugsm.co.kr/album/images/200/916...</td>\n",
       "      <td>pop</td>\n",
       "    </tr>\n",
       "  </tbody>\n",
       "</table>\n",
       "<p>800 rows × 4 columns</p>\n",
       "</div>"
      ],
      "text/plain": [
       "                                곡명                            가수명  \\\n",
       "0                         너의 모든 순간                            성시경   \n",
       "1                        Monologue                        테이(Tei)   \n",
       "2            혼자서 걸어요 (Prod. by 나얼)                   태연 (TAEYEON)   \n",
       "3                   Say I Love You                      우디(Woody)   \n",
       "4                그댄 행복에 살텐데 (2022)                            최유리   \n",
       "..                             ...                            ...   \n",
       "795                         THREAT  Rex Orange County(렉스 오렌지 카운티)   \n",
       "796  I Don’t Think That I Like Her            Charlie Puth(찰리 푸스)   \n",
       "797         IT'S YOU (feat. keshi)                        MAX(맥스)   \n",
       "798            Nancy Got A Haircut          Alec Benjamin(알렉 벤자민)   \n",
       "799                        Bonfire                    Peder Elias   \n",
       "\n",
       "                                                   src      장르  \n",
       "0    https://image.bugsm.co.kr/album/images/200/413...  ballad  \n",
       "1    https://image.bugsm.co.kr/album/images/200/407...  ballad  \n",
       "2    https://image.bugsm.co.kr/album/images/200/408...  ballad  \n",
       "3    https://image.bugsm.co.kr/album/images/200/205...  ballad  \n",
       "4    https://image.bugsm.co.kr/album/images/200/205...  ballad  \n",
       "..                                                 ...     ...  \n",
       "795  https://image.bugsm.co.kr/album/images/200/189...     pop  \n",
       "796  https://image.bugsm.co.kr/album/images/200/408...     pop  \n",
       "797  https://image.bugsm.co.kr/album/images/200/193...     pop  \n",
       "798  https://image.bugsm.co.kr/album/images/200/176...     pop  \n",
       "799  https://image.bugsm.co.kr/album/images/200/916...     pop  \n",
       "\n",
       "[800 rows x 4 columns]"
      ]
     },
     "execution_count": 6,
     "metadata": {},
     "output_type": "execute_result"
    }
   ],
   "source": [
    "song_df"
   ]
  },
  {
   "cell_type": "code",
   "execution_count": 7,
   "id": "104fa56b",
   "metadata": {
    "ExecuteTime": {
     "end_time": "2023-02-24T00:29:01.008652Z",
     "start_time": "2023-02-24T00:29:00.926169Z"
    }
   },
   "outputs": [],
   "source": [
    "url_lst = []\n",
    "for i in range(len(song_df)):\n",
    "    song = urllib.parse.quote(song_df.iloc[i][0]) # 곡명 인코딩\n",
    "    singer = urllib.parse.quote(song_df.iloc[i][1]) # 가수명 인코딩\n",
    "    url = f'https://www.youtube.com/results?search_query={singer}+-+{song}+lyrics' # 가수명-곡명 lyrics으로 검색한 url\n",
    "    url_lst.append(url)"
   ]
  },
  {
   "cell_type": "code",
   "execution_count": 10,
   "id": "c630a28a",
   "metadata": {
    "ExecuteTime": {
     "end_time": "2023-02-24T00:29:27.832369Z",
     "start_time": "2023-02-24T00:29:27.822423Z"
    }
   },
   "outputs": [
    {
     "data": {
      "text/plain": [
       "'기다리다'"
      ]
     },
     "execution_count": 10,
     "metadata": {},
     "output_type": "execute_result"
    }
   ],
   "source": [
    "song_df.iloc[54][0]"
   ]
  },
  {
   "cell_type": "code",
   "execution_count": 16,
   "id": "8de19e08",
   "metadata": {
    "ExecuteTime": {
     "end_time": "2023-02-24T00:46:01.496980Z",
     "start_time": "2023-02-24T00:45:51.222448Z"
    }
   },
   "outputs": [],
   "source": [
    "# 영상url 담아줄 리스트\n",
    "yt_lst = []\n",
    "\n",
    "# 어떤 조건에서 url이 담겨졌는지 체크할 리스트\n",
    "yt_lst_check = []\n",
    "\n",
    "# 검색할 url_lst 만큼 반복\n",
    "for i in range(35,36):\n",
    "    driver = wb.Chrome()\n",
    "    driver.get(url_lst[i])\n",
    "    time.sleep(5)\n",
    "    \n",
    "    # 검색하여 만들어진 유튜브 웹페이지에서 영상제목의 링크가 담긴 a태그, text가 담긴 태그에 접근\n",
    "    aTag = driver.find_elements(By.CSS_SELECTOR, value = 'ytd-video-renderer #video-title')\n",
    "    #name = driver.find_elements(By.CSS_SELECTOR, value = 'ytd-video-renderer yt-formatted-string)\n",
    "    \n",
    "    # 접근한 a태그에서 링크 추출하기\n",
    "    if len(aTag)>0: # 웹페이제 접근했을때 검색 결과가 있을시\n",
    "        for j in range(len(aTag)):\n",
    "            \n",
    "            # 첫번째 조건 - 접근할 영상 제목에 곡명 가수명 일치할시에 aTag에 접근해서 링크 추출\n",
    "            if (song_df.iloc[i][0]) in aTag[j].text and (song_df.iloc[i][1]) in aTag[j].text and '1시간' not in aTag[j].text and '1 시간' not in aTag[j].text and '1hour' not in aTag[j].text and '1 hour' not in aTag[j].text and '1HOUR' not in aTag[j].text and '1 HOUR' not in aTag[j].text and '1시간 |' not in aTag[j].text and '[1시간]' not in aTag[j].text and '| 1시간' not in aTag[j].text:\n",
    "                yt = aTag[j].get_attribute('href') # a태그의 href속성값 추출\n",
    "                yt_lst.append(yt) # 추출한 href속성값 yt_lst에 담아주기\n",
    "                yt_lst_check.append(\"a\") # 곡명 가수명 포함시\n",
    "                break\n",
    "                \n",
    "            # 두번째 조건 영상 제목에 가사 또는 lyrics가 포함되어있을시 aTag 접근해서 링크  추출\n",
    "            elif '가사' in aTag[j].text or 'lyrics' in aTag[j].text:\n",
    "                if (song_df.iloc[i][0]) in aTag[j].text and '1시간' not in aTag[j].text and '1 시간' not in aTag[j].text and '1hour' not in aTag[j].text and '1 hour' not in aTag[j].text and '1HOUR' not in aTag[j].text and '1 HOUR' not in aTag[j].text and '1시간 |' not in aTag[j].text and '[1시간]' not in aTag[j].text and '| 1시간' not in aTag[j].text:\n",
    "                    yt = aTag[j].get_attribute('href') # a태그의 href속성값 추출\n",
    "                    yt_lst.append(yt) # 추출한 href속성값 yt_lst에 담아주기\n",
    "                    yt_lst_check.append(\"bb\") # 가수 or lyrics 가 포함시\n",
    "                    break\n",
    "                elif '1시간' not in aTag[j].text and '1 시간' not in aTag[j].text and '1hour' not in aTag[j].text and '1 hour' not in aTag[j].text and '1HOUR' not in aTag[j].text and '1 HOUR' not in aTag[j].text and '1시간 |' not in aTag[j].text and '[1시간]' not in aTag[j].text and '| 1시간' not in aTag[j].text:\n",
    "                    yt = aTag[j].get_attribute('href') # a태그의 href속성값 추출\n",
    "                    yt_lst.append(yt) # 추출한 href속성값 yt_lst에 담아주기\n",
    "                    yt_lst_check.append(\"b\") # 가수 or lyrics 가 포함시\n",
    "                    break\n",
    "            elif j == (len(aTag)-1) and '1시간' not in aTag[j].text and '1 시간' not in aTag[j].text and '1hour' not in aTag[j].text and '1 hour' not in aTag[j].text and '1HOUR' not in aTag[j].text and '1 HOUR' not in aTag[j].text and '1시간 |' not in aTag[j].text and '[1시간]' not in aTag[j].text and '| 1시간' not in aTag[j].text:\n",
    "                yt_lst.append('검색결과없음')\n",
    "                yt_lst_check.append(\"cc\")\n",
    "                \n",
    "    else: # 웹페이지에 접근했을때 검색 결과가 없을시\n",
    "            yt_lst.append(\"검색결과없음\") \n",
    "            yt_lst_check.append(\"c\") # 검색결과 없을시\n",
    "driver.quit()"
   ]
  },
  {
   "cell_type": "code",
   "execution_count": null,
   "id": "8ef8b458",
   "metadata": {
    "ExecuteTime": {
     "end_time": "2023-02-24T00:23:02.054452Z",
     "start_time": "2023-02-24T00:23:02.054452Z"
    }
   },
   "outputs": [],
   "source": [
    "song_df['유튜브'] = yt_lst\n",
    "song_df['체크'] = yt_lst_check\n",
    "song_df"
   ]
  },
  {
   "cell_type": "code",
   "execution_count": null,
   "id": "ee041633",
   "metadata": {
    "ExecuteTime": {
     "end_time": "2023-02-24T00:23:02.055449Z",
     "start_time": "2023-02-24T00:23:02.055449Z"
    }
   },
   "outputs": [],
   "source": [
    "driver.quit()"
   ]
  },
  {
   "cell_type": "code",
   "execution_count": null,
   "id": "74f6e4ef",
   "metadata": {
    "ExecuteTime": {
     "end_time": "2023-02-24T00:23:02.056446Z",
     "start_time": "2023-02-24T00:23:02.056446Z"
    }
   },
   "outputs": [],
   "source": [
    "song_df.iloc[1][4]"
   ]
  },
  {
   "cell_type": "code",
   "execution_count": null,
   "id": "cd368205",
   "metadata": {
    "ExecuteTime": {
     "end_time": "2023-02-24T00:23:02.057444Z",
     "start_time": "2023-02-24T00:23:02.057444Z"
    }
   },
   "outputs": [],
   "source": [
    "error_lst = []\n",
    "for i in range(len(song_df)):\n",
    "    if song_df.iloc[i][4] == \"검색결과없음\" :\n",
    "        error_lst.append(song_df.iloc[i][1])"
   ]
  },
  {
   "cell_type": "code",
   "execution_count": null,
   "id": "0bfa8cd1",
   "metadata": {
    "ExecuteTime": {
     "end_time": "2023-02-24T00:23:02.057444Z",
     "start_time": "2023-02-24T00:23:02.057444Z"
    }
   },
   "outputs": [],
   "source": [
    "error_lst"
   ]
  },
  {
   "cell_type": "code",
   "execution_count": null,
   "id": "2537ac33",
   "metadata": {
    "ExecuteTime": {
     "end_time": "2023-02-24T00:23:02.058441Z",
     "start_time": "2023-02-24T00:23:02.058441Z"
    }
   },
   "outputs": [],
   "source": [
    "song_df.to_excel('test_song.xlsx')"
   ]
  },
  {
   "cell_type": "code",
   "execution_count": null,
   "id": "ac8bc3f4",
   "metadata": {},
   "outputs": [],
   "source": []
  },
  {
   "cell_type": "code",
   "execution_count": null,
   "id": "826b5035",
   "metadata": {},
   "outputs": [],
   "source": []
  },
  {
   "cell_type": "code",
   "execution_count": null,
   "id": "2e4b79c7",
   "metadata": {},
   "outputs": [],
   "source": []
  },
  {
   "cell_type": "code",
   "execution_count": null,
   "id": "95a46053",
   "metadata": {},
   "outputs": [],
   "source": []
  },
  {
   "cell_type": "code",
   "execution_count": null,
   "id": "b03ba204",
   "metadata": {},
   "outputs": [],
   "source": []
  },
  {
   "cell_type": "code",
   "execution_count": null,
   "id": "bb09366f",
   "metadata": {},
   "outputs": [],
   "source": []
  },
  {
   "cell_type": "code",
   "execution_count": null,
   "id": "4686a496",
   "metadata": {},
   "outputs": [],
   "source": []
  },
  {
   "cell_type": "code",
   "execution_count": null,
   "id": "093d927d",
   "metadata": {},
   "outputs": [],
   "source": []
  }
 ],
 "metadata": {
  "kernelspec": {
   "display_name": "Python 3 (ipykernel)",
   "language": "python",
   "name": "python3"
  },
  "language_info": {
   "codemirror_mode": {
    "name": "ipython",
    "version": 3
   },
   "file_extension": ".py",
   "mimetype": "text/x-python",
   "name": "python",
   "nbconvert_exporter": "python",
   "pygments_lexer": "ipython3",
   "version": "3.9.13"
  },
  "toc": {
   "base_numbering": 1,
   "nav_menu": {},
   "number_sections": true,
   "sideBar": true,
   "skip_h1_title": false,
   "title_cell": "Table of Contents",
   "title_sidebar": "Contents",
   "toc_cell": false,
   "toc_position": {},
   "toc_section_display": true,
   "toc_window_display": false
  },
  "varInspector": {
   "cols": {
    "lenName": 16,
    "lenType": 16,
    "lenVar": 40
   },
   "kernels_config": {
    "python": {
     "delete_cmd_postfix": "",
     "delete_cmd_prefix": "del ",
     "library": "var_list.py",
     "varRefreshCmd": "print(var_dic_list())"
    },
    "r": {
     "delete_cmd_postfix": ") ",
     "delete_cmd_prefix": "rm(",
     "library": "var_list.r",
     "varRefreshCmd": "cat(var_dic_list()) "
    }
   },
   "types_to_exclude": [
    "module",
    "function",
    "builtin_function_or_method",
    "instance",
    "_Feature"
   ],
   "window_display": false
  }
 },
 "nbformat": 4,
 "nbformat_minor": 5
}
