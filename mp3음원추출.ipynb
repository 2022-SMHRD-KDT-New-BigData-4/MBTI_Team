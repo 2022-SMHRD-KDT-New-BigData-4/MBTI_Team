{
 "cells": [
  {
   "cell_type": "code",
   "execution_count": 1,
   "id": "37e70b21",
   "metadata": {
    "ExecuteTime": {
     "end_time": "2023-02-20T01:25:49.071454Z",
     "start_time": "2023-02-20T01:25:45.608766Z"
    }
   },
   "outputs": [
    {
     "name": "stdout",
     "output_type": "stream",
     "text": [
      "Collecting pytube\n",
      "  Downloading pytube-12.1.2-py3-none-any.whl (57 kB)\n",
      "     -------------------------------------- 57.0/57.0 kB 995.4 kB/s eta 0:00:00\n",
      "Installing collected packages: pytube\n",
      "Successfully installed pytube-12.1.2\n",
      "Note: you may need to restart the kernel to use updated packages.\n"
     ]
    }
   ],
   "source": [
    "# pytube 라이브러리 : 유튜브에 있는 영상 관련 메타데이터를 가져오거나\n",
    "# 영상을 동영상 파일 형식으로 다운받을 수 있는 라이브러리\n",
    "\n",
    "# pytube 라이브러리 설치\n",
    "#pip install pytube"
   ]
  },
  {
   "cell_type": "code",
   "execution_count": null,
   "id": "517a8729",
   "metadata": {},
   "outputs": [],
   "source": [
    "# 라이브러리 불러오기 및 설정\n",
    "#from pytube import YouTube\n",
    "\n",
    "# 다운로드받을 폴더 경로 설정\n",
    "#DOWNLOAD_FOLDER = \"C:\\\\Users\\\\smhrd\\\\Desktop\\\\MNMproject\\\\soundSource\"\n",
    "\n",
    "# 추출할 유튜브 영상 url 입력\n",
    "#url = \"https://www.youtube.com/watch?v=qSdyigEP2jY\"\n",
    "\n",
    "# pytube 모듈 안의 YouTube메소드를 통해서 ty라는 변수로 객체 생성\n",
    "#yt = YouTube(url)\n",
    "\n",
    "# 오디오 다운로드\n",
    "#yt.streams.filter(adaptive=True, file_extension='mp4', only_audio=True).order_by('abr').desc().first().download(DOWNLOAD_FOLDER, '혼자서걸어요-태연.mp4')"
   ]
  },
  {
   "cell_type": "code",
   "execution_count": 1,
   "id": "138e1fbe",
   "metadata": {
    "ExecuteTime": {
     "end_time": "2023-02-20T08:27:06.522623Z",
     "start_time": "2023-02-20T08:27:04.375443Z"
    }
   },
   "outputs": [
    {
     "data": {
      "text/plain": [
       "'C:\\\\Users\\\\smhrd\\\\Desktop\\\\MNMproject\\\\soundSource\\\\NewJeans (뉴진스) Ditto Performance Video.mp4'"
      ]
     },
     "execution_count": 1,
     "metadata": {},
     "output_type": "execute_result"
    }
   ],
   "source": [
    "# 라이브러리 불러오기 및 설정\n",
    "from pytube import YouTube\n",
    "\n",
    "# 다운로드받을 폴더 경로 설정\n",
    "DOWNLOAD_FOLDER = \"C:\\\\Users\\\\smhrd\\\\Desktop\\\\MNMproject\\\\soundSource\"\n",
    "\n",
    "# 다운 받을 유튜브영상 url\n",
    "url = \"https://www.youtube.com/watch?v=Km71Rr9K-Bw\"\n",
    "\n",
    "# pytube 모듈 안의 YouTube메소드를 통해서 yt라는 변수로 객체 생성\n",
    "yt = YouTube(url)\n",
    "\n",
    "# \n",
    "stream = yt.streams.get_highest_resolution()\n",
    "stream.download(DOWNLOAD_FOLDER)"
   ]
  },
  {
   "cell_type": "code",
   "execution_count": null,
   "id": "27a049a1",
   "metadata": {},
   "outputs": [],
   "source": [
    "# moviepy : mp4->mp3 변환 라이브러리\n",
    "# moviepy 라이브러 설치\n",
    "#pip install moviepy"
   ]
  },
  {
   "cell_type": "code",
   "execution_count": 2,
   "id": "bb103cee",
   "metadata": {
    "ExecuteTime": {
     "end_time": "2023-02-20T08:27:14.052925Z",
     "start_time": "2023-02-20T08:27:10.176088Z"
    },
    "scrolled": false
   },
   "outputs": [
    {
     "name": "stdout",
     "output_type": "stream",
     "text": [
      "MoviePy - Writing audio in C:\\Users\\smhrd\\Desktop\\MNMproject\\soundSource\\ditto.mp3\n"
     ]
    },
    {
     "name": "stderr",
     "output_type": "stream",
     "text": [
      "                                                                                                                       "
     ]
    },
    {
     "name": "stdout",
     "output_type": "stream",
     "text": [
      "MoviePy - Done.\n"
     ]
    },
    {
     "name": "stderr",
     "output_type": "stream",
     "text": [
      "\r"
     ]
    }
   ],
   "source": [
    "# moviepy 불러오기\n",
    "from moviepy.editor import *\n",
    "\n",
    "# \n",
    "default_filename = stream.default_filename\n",
    "\n",
    "# mp3로 변환할 파일 이름\n",
    "new_filename = \"ditto.mp3\" \n",
    "\n",
    "# mp3로 변환할 기존 mp4파일 경로, 파일이름\n",
    "video = VideoFileClip(os.path.join(DOWNLOAD_FOLDER,default_filename)) \n",
    "\n",
    "# mp3로 변환 후 저장할 경로, 파일이름\n",
    "video.audio.write_audiofile(os.path.join(DOWNLOAD_FOLDER,new_filename)) "
   ]
  },
  {
   "cell_type": "code",
   "execution_count": 3,
   "id": "06926f12",
   "metadata": {
    "ExecuteTime": {
     "end_time": "2023-02-20T08:32:54.129746Z",
     "start_time": "2023-02-20T08:32:54.112424Z"
    }
   },
   "outputs": [],
   "source": [
    "# 기존 mp4파일 지우기\n",
    "# 파일을 다루는 os 라이브러리 불러오기\n",
    "import os\n",
    "\n",
    "# proecess 끝내기 -> 끝내야만 mp4파일을 지울 수 있다.\n",
    "video.close()\n",
    "\n",
    "# 기존 mp4파일 지우기\n",
    "if os.path.isfile(DOWNLOAD_FOLDER + \"/\" + default_filename):\n",
    "    os.remove(DOWNLOAD_FOLDER + \"/\" + default_filename)"
   ]
  }
 ],
 "metadata": {
  "kernelspec": {
   "display_name": "Python 3 (ipykernel)",
   "language": "python",
   "name": "python3"
  },
  "language_info": {
   "codemirror_mode": {
    "name": "ipython",
    "version": 3
   },
   "file_extension": ".py",
   "mimetype": "text/x-python",
   "name": "python",
   "nbconvert_exporter": "python",
   "pygments_lexer": "ipython3",
   "version": "3.9.13"
  },
  "toc": {
   "base_numbering": 1,
   "nav_menu": {},
   "number_sections": true,
   "sideBar": true,
   "skip_h1_title": false,
   "title_cell": "Table of Contents",
   "title_sidebar": "Contents",
   "toc_cell": false,
   "toc_position": {},
   "toc_section_display": true,
   "toc_window_display": false
  },
  "varInspector": {
   "cols": {
    "lenName": 16,
    "lenType": 16,
    "lenVar": 40
   },
   "kernels_config": {
    "python": {
     "delete_cmd_postfix": "",
     "delete_cmd_prefix": "del ",
     "library": "var_list.py",
     "varRefreshCmd": "print(var_dic_list())"
    },
    "r": {
     "delete_cmd_postfix": ") ",
     "delete_cmd_prefix": "rm(",
     "library": "var_list.r",
     "varRefreshCmd": "cat(var_dic_list()) "
    }
   },
   "types_to_exclude": [
    "module",
    "function",
    "builtin_function_or_method",
    "instance",
    "_Feature"
   ],
   "window_display": false
  }
 },
 "nbformat": 4,
 "nbformat_minor": 5
}
