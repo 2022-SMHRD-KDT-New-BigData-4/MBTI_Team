{
 "cells": [
  {
   "cell_type": "markdown",
   "id": "1fb9446e",
   "metadata": {},
   "source": [
    "## 유튜브소스코드 추출\n",
    "- beautifulsoup 한계로 selenium사용"
   ]
  },
  {
   "cell_type": "markdown",
   "id": "8ec865a9",
   "metadata": {},
   "source": [
    "### 2023-02-22\n",
    "song_df 데이터 프레임에 정리된 곡명 가수명을 쿼리값으로 유튜브 검색후 첫번째 영상을 추출시\n",
    "광고, 검색값과 다른 영상, 검색값이 없는경우 등 오류가 있음\n",
    "해결해보기위해 유튜브 api사용해보기로 함"
   ]
  },
  {
   "cell_type": "code",
   "execution_count": 1,
   "id": "8d965794",
   "metadata": {
    "ExecuteTime": {
     "end_time": "2023-02-22T05:16:22.928343Z",
     "start_time": "2023-02-22T05:16:22.497969Z"
    }
   },
   "outputs": [],
   "source": [
    "from selenium import webdriver as wb\n",
    "from selenium.webdriver.common.by import By\n",
    "from selenium.webdriver.common.keys import Keys\n",
    "import time # 딜레이 기능 - sleep(초)\n",
    "\n",
    "# 판다스\n",
    "import pandas as pd"
   ]
  },
  {
   "cell_type": "code",
   "execution_count": 2,
   "id": "47620281",
   "metadata": {
    "ExecuteTime": {
     "end_time": "2023-02-22T05:16:36.191017Z",
     "start_time": "2023-02-22T05:16:35.694309Z"
    },
    "scrolled": true
   },
   "outputs": [],
   "source": [
    "song_df = pd.read_excel('./music.xlsx') "
   ]
  },
  {
   "cell_type": "code",
   "execution_count": 3,
   "id": "43956e63",
   "metadata": {
    "ExecuteTime": {
     "end_time": "2023-02-22T05:16:38.888248Z",
     "start_time": "2023-02-22T05:16:38.814057Z"
    }
   },
   "outputs": [],
   "source": [
    "# 곡명-가수명으로 검색한 url 리스트 만들기\n",
    "url_lst = []\n",
    "for i in range(len(song_df)):\n",
    "    song = song_df.iloc[i][0] # 곡명담기\n",
    "    singer = song_df.iloc[i][1] # 가수명담기\n",
    "    url = f'https://www.youtube.com/results?search_query={singer}+-+{song}+lyrics' # 가수명-곡명 lyrics으로 검색한 url\n",
    "    url_lst.append(url) # url리스트에 담아주기"
   ]
  },
  {
   "cell_type": "markdown",
   "id": "6f8db90d",
   "metadata": {},
   "source": [
    "### 어떻게 필요한 영상만 담을까??\n",
    "- 첫번째 for문 -> 모든 곡에대한 url 접근\n",
    "- 두번째 for문 -> 한음원 url에 접근후 나온페이지의 모든 영상에 접근\n",
    "- if문 -> 노래명 가수명이 포함일시 링크따오고 break, 추가적으로 a, b, c 등해서 어떤 조건에서 따온 url인지도 판단하는 리스트 컬럼 만들어보기\n",
    "- elif -> 가사 또는 lyrics이 제목에 포함일시 링크따오고 break\n",
    "- 해당 url에 원하는 영상 링크를 못따올시 처리방법 생각"
   ]
  },
  {
   "cell_type": "code",
   "execution_count": 4,
   "id": "bfe2056c",
   "metadata": {
    "ExecuteTime": {
     "end_time": "2023-02-22T07:20:05.669322Z",
     "start_time": "2023-02-22T05:57:27.095015Z"
    }
   },
   "outputs": [],
   "source": [
    "# 영상url 담아줄 리스트\n",
    "yt_lst = []\n",
    "\n",
    "# 어떤 조건에서 url이 담겨졌는지 체크할 리스트\n",
    "yt_lst_check = []\n",
    "\n",
    "# 검색할 url_lst 만큼 반복\n",
    "for i in range(len(url_lst)):\n",
    "    driver = wb.Chrome()\n",
    "    driver.get(url_lst[i])\n",
    "    time.sleep(1)\n",
    "    \n",
    "    # 검색하여 만들어진 유튜브 웹페이지에서 영상제목의 링크가 담긴 a태그, text가 담긴 태그에 접근\n",
    "    aTag = driver.find_elements(By.CSS_SELECTOR, value = 'ytd-video-renderer #video-title')\n",
    "    name = driver.find_elements(By.CSS_SELECTOR, value = 'ytd-video-renderer yt-formatted-string')\n",
    "    \n",
    "    # 접근한 a태그에서 링크 추출하기\n",
    "    if len(aTag)>0: # 웹페이제 접근했을때 검색 결과가 있을시\n",
    "        for j in range(len(aTag)):\n",
    "            \n",
    "            # 첫번째 조건 - 접근할 영상 제목에 곡명 가수명 일치할시에 aTag에 접근해서 링크 추출\n",
    "            if (song_df.iloc[0][0]) in name[j].text and (song_df.iloc[0][1]) in name[j].text:\n",
    "                yt = aTag[j].get_attribute('href') # a태그의 href속성값 추출\n",
    "                yt_lst.append(yt) # 추출한 href속성값 yt_lst에 담아주기\n",
    "                yt_lst_check.append(\"a\") # 곡명 가수명 포함시\n",
    "                break\n",
    "                \n",
    "            # 두번째 조건 영상 제목에 가사 또는 lyrics가 포함되어있을시 aTag 접근해서 링크  추출\n",
    "            elif '가사' in name[j].text or 'lyrics' in name[j].text:\n",
    "                yt = aTag[j].get_attribute('href') # a태그의 href속성값 추출\n",
    "                yt_lst.append(yt) # 추출한 href속성값 yt_lst에 담아주기\n",
    "                yt_lst_check.append(\"b\") # 가수 or lyrics 가 포함시\n",
    "                break\n",
    "                \n",
    "    else: # 웹페이지에 접근했을때 검색 결과가 없을시\n",
    "            yt_lst.append(\"검색결과없음\") \n",
    "            yt_lst_check.append(\"c\") # 검색결과 없을시\n",
    "driver.quit()"
   ]
  },
  {
   "cell_type": "code",
   "execution_count": 19,
   "id": "4a83a61c",
   "metadata": {
    "ExecuteTime": {
     "end_time": "2023-02-22T07:28:38.041167Z",
     "start_time": "2023-02-22T07:28:38.034212Z"
    }
   },
   "outputs": [],
   "source": [
    "dic = {'유튜브':yt_lst, '체크':yt_lst_check}"
   ]
  },
  {
   "cell_type": "code",
   "execution_count": 20,
   "id": "f2b242ec",
   "metadata": {
    "ExecuteTime": {
     "end_time": "2023-02-22T07:29:00.385258Z",
     "start_time": "2023-02-22T07:29:00.378158Z"
    }
   },
   "outputs": [],
   "source": [
    "yt_df = pd.DataFrame(dic)"
   ]
  },
  {
   "cell_type": "code",
   "execution_count": 21,
   "id": "3c96adc5",
   "metadata": {
    "ExecuteTime": {
     "end_time": "2023-02-22T07:29:03.788239Z",
     "start_time": "2023-02-22T07:29:03.769949Z"
    },
    "scrolled": true
   },
   "outputs": [
    {
     "data": {
      "text/html": [
       "<div>\n",
       "<style scoped>\n",
       "    .dataframe tbody tr th:only-of-type {\n",
       "        vertical-align: middle;\n",
       "    }\n",
       "\n",
       "    .dataframe tbody tr th {\n",
       "        vertical-align: top;\n",
       "    }\n",
       "\n",
       "    .dataframe thead th {\n",
       "        text-align: right;\n",
       "    }\n",
       "</style>\n",
       "<table border=\"1\" class=\"dataframe\">\n",
       "  <thead>\n",
       "    <tr style=\"text-align: right;\">\n",
       "      <th></th>\n",
       "      <th>유튜브</th>\n",
       "      <th>체크</th>\n",
       "    </tr>\n",
       "  </thead>\n",
       "  <tbody>\n",
       "    <tr>\n",
       "      <th>0</th>\n",
       "      <td>https://www.youtube.com/watch?v=evOsUf9en-Y</td>\n",
       "      <td>a</td>\n",
       "    </tr>\n",
       "    <tr>\n",
       "      <th>1</th>\n",
       "      <td>https://www.youtube.com/watch?v=zVTO8br-6XQ</td>\n",
       "      <td>b</td>\n",
       "    </tr>\n",
       "    <tr>\n",
       "      <th>2</th>\n",
       "      <td>https://www.youtube.com/watch?v=hjfeLAGT47s</td>\n",
       "      <td>b</td>\n",
       "    </tr>\n",
       "    <tr>\n",
       "      <th>3</th>\n",
       "      <td>https://www.youtube.com/watch?v=JEJGD9mIYQQ</td>\n",
       "      <td>b</td>\n",
       "    </tr>\n",
       "    <tr>\n",
       "      <th>4</th>\n",
       "      <td>https://www.youtube.com/watch?v=BEdrr7Je1bU&amp;pp...</td>\n",
       "      <td>b</td>\n",
       "    </tr>\n",
       "    <tr>\n",
       "      <th>...</th>\n",
       "      <td>...</td>\n",
       "      <td>...</td>\n",
       "    </tr>\n",
       "    <tr>\n",
       "      <th>738</th>\n",
       "      <td>https://www.youtube.com/watch?v=sA7OcLYZ2qk</td>\n",
       "      <td>b</td>\n",
       "    </tr>\n",
       "    <tr>\n",
       "      <th>739</th>\n",
       "      <td>https://www.youtube.com/watch?v=8tem27lgr1Q</td>\n",
       "      <td>b</td>\n",
       "    </tr>\n",
       "    <tr>\n",
       "      <th>740</th>\n",
       "      <td>https://www.youtube.com/watch?v=Q3eh6pxYAJs</td>\n",
       "      <td>b</td>\n",
       "    </tr>\n",
       "    <tr>\n",
       "      <th>741</th>\n",
       "      <td>https://www.youtube.com/watch?v=2AKh2T9FTQA</td>\n",
       "      <td>b</td>\n",
       "    </tr>\n",
       "    <tr>\n",
       "      <th>742</th>\n",
       "      <td>https://www.youtube.com/watch?v=7H1bvyZs6kQ</td>\n",
       "      <td>b</td>\n",
       "    </tr>\n",
       "  </tbody>\n",
       "</table>\n",
       "<p>743 rows × 2 columns</p>\n",
       "</div>"
      ],
      "text/plain": [
       "                                                   유튜브 체크\n",
       "0          https://www.youtube.com/watch?v=evOsUf9en-Y  a\n",
       "1          https://www.youtube.com/watch?v=zVTO8br-6XQ  b\n",
       "2          https://www.youtube.com/watch?v=hjfeLAGT47s  b\n",
       "3          https://www.youtube.com/watch?v=JEJGD9mIYQQ  b\n",
       "4    https://www.youtube.com/watch?v=BEdrr7Je1bU&pp...  b\n",
       "..                                                 ... ..\n",
       "738        https://www.youtube.com/watch?v=sA7OcLYZ2qk  b\n",
       "739        https://www.youtube.com/watch?v=8tem27lgr1Q  b\n",
       "740        https://www.youtube.com/watch?v=Q3eh6pxYAJs  b\n",
       "741        https://www.youtube.com/watch?v=2AKh2T9FTQA  b\n",
       "742        https://www.youtube.com/watch?v=7H1bvyZs6kQ  b\n",
       "\n",
       "[743 rows x 2 columns]"
      ]
     },
     "execution_count": 21,
     "metadata": {},
     "output_type": "execute_result"
    }
   ],
   "source": [
    "yt_df"
   ]
  },
  {
   "cell_type": "code",
   "execution_count": 22,
   "id": "5a8b50a8",
   "metadata": {
    "ExecuteTime": {
     "end_time": "2023-02-22T07:29:30.413696Z",
     "start_time": "2023-02-22T07:29:30.274157Z"
    }
   },
   "outputs": [],
   "source": [
    "yt_df.to_excel('./yt.xlsx', index = False)"
   ]
  },
  {
   "cell_type": "code",
   "execution_count": 5,
   "id": "ed4eab8b",
   "metadata": {
    "ExecuteTime": {
     "end_time": "2023-02-22T07:20:15.806514Z",
     "start_time": "2023-02-22T07:20:15.777481Z"
    }
   },
   "outputs": [
    {
     "ename": "ValueError",
     "evalue": "Length of values (743) does not match length of index (800)",
     "output_type": "error",
     "traceback": [
      "\u001b[1;31m---------------------------------------------------------------------------\u001b[0m",
      "\u001b[1;31mValueError\u001b[0m                                Traceback (most recent call last)",
      "\u001b[1;32m~\\AppData\\Local\\Temp\\ipykernel_11352\\2875907254.py\u001b[0m in \u001b[0;36m<module>\u001b[1;34m\u001b[0m\n\u001b[1;32m----> 1\u001b[1;33m \u001b[0msong_df\u001b[0m\u001b[1;33m[\u001b[0m\u001b[1;34m'유튜브'\u001b[0m\u001b[1;33m]\u001b[0m \u001b[1;33m=\u001b[0m \u001b[0myt_lst\u001b[0m\u001b[1;33m\u001b[0m\u001b[1;33m\u001b[0m\u001b[0m\n\u001b[0m\u001b[0;32m      2\u001b[0m \u001b[0msong_df\u001b[0m\u001b[1;33m[\u001b[0m\u001b[1;34m'유튜브링크체크'\u001b[0m\u001b[1;33m]\u001b[0m \u001b[1;33m=\u001b[0m \u001b[0myt_lst_check\u001b[0m\u001b[1;33m\u001b[0m\u001b[1;33m\u001b[0m\u001b[0m\n\u001b[0;32m      3\u001b[0m \u001b[0msong_df\u001b[0m\u001b[1;33m\u001b[0m\u001b[1;33m\u001b[0m\u001b[0m\n",
      "\u001b[1;32m~\\anaconda3\\lib\\site-packages\\pandas\\core\\frame.py\u001b[0m in \u001b[0;36m__setitem__\u001b[1;34m(self, key, value)\u001b[0m\n\u001b[0;32m   3653\u001b[0m         \u001b[1;32melse\u001b[0m\u001b[1;33m:\u001b[0m\u001b[1;33m\u001b[0m\u001b[1;33m\u001b[0m\u001b[0m\n\u001b[0;32m   3654\u001b[0m             \u001b[1;31m# set column\u001b[0m\u001b[1;33m\u001b[0m\u001b[1;33m\u001b[0m\u001b[0m\n\u001b[1;32m-> 3655\u001b[1;33m             \u001b[0mself\u001b[0m\u001b[1;33m.\u001b[0m\u001b[0m_set_item\u001b[0m\u001b[1;33m(\u001b[0m\u001b[0mkey\u001b[0m\u001b[1;33m,\u001b[0m \u001b[0mvalue\u001b[0m\u001b[1;33m)\u001b[0m\u001b[1;33m\u001b[0m\u001b[1;33m\u001b[0m\u001b[0m\n\u001b[0m\u001b[0;32m   3656\u001b[0m \u001b[1;33m\u001b[0m\u001b[0m\n\u001b[0;32m   3657\u001b[0m     \u001b[1;32mdef\u001b[0m \u001b[0m_setitem_slice\u001b[0m\u001b[1;33m(\u001b[0m\u001b[0mself\u001b[0m\u001b[1;33m,\u001b[0m \u001b[0mkey\u001b[0m\u001b[1;33m:\u001b[0m \u001b[0mslice\u001b[0m\u001b[1;33m,\u001b[0m \u001b[0mvalue\u001b[0m\u001b[1;33m)\u001b[0m\u001b[1;33m:\u001b[0m\u001b[1;33m\u001b[0m\u001b[1;33m\u001b[0m\u001b[0m\n",
      "\u001b[1;32m~\\anaconda3\\lib\\site-packages\\pandas\\core\\frame.py\u001b[0m in \u001b[0;36m_set_item\u001b[1;34m(self, key, value)\u001b[0m\n\u001b[0;32m   3830\u001b[0m         \u001b[0mensure\u001b[0m \u001b[0mhomogeneity\u001b[0m\u001b[1;33m.\u001b[0m\u001b[1;33m\u001b[0m\u001b[1;33m\u001b[0m\u001b[0m\n\u001b[0;32m   3831\u001b[0m         \"\"\"\n\u001b[1;32m-> 3832\u001b[1;33m         \u001b[0mvalue\u001b[0m \u001b[1;33m=\u001b[0m \u001b[0mself\u001b[0m\u001b[1;33m.\u001b[0m\u001b[0m_sanitize_column\u001b[0m\u001b[1;33m(\u001b[0m\u001b[0mvalue\u001b[0m\u001b[1;33m)\u001b[0m\u001b[1;33m\u001b[0m\u001b[1;33m\u001b[0m\u001b[0m\n\u001b[0m\u001b[0;32m   3833\u001b[0m \u001b[1;33m\u001b[0m\u001b[0m\n\u001b[0;32m   3834\u001b[0m         if (\n",
      "\u001b[1;32m~\\anaconda3\\lib\\site-packages\\pandas\\core\\frame.py\u001b[0m in \u001b[0;36m_sanitize_column\u001b[1;34m(self, value)\u001b[0m\n\u001b[0;32m   4536\u001b[0m \u001b[1;33m\u001b[0m\u001b[0m\n\u001b[0;32m   4537\u001b[0m         \u001b[1;32mif\u001b[0m \u001b[0mis_list_like\u001b[0m\u001b[1;33m(\u001b[0m\u001b[0mvalue\u001b[0m\u001b[1;33m)\u001b[0m\u001b[1;33m:\u001b[0m\u001b[1;33m\u001b[0m\u001b[1;33m\u001b[0m\u001b[0m\n\u001b[1;32m-> 4538\u001b[1;33m             \u001b[0mcom\u001b[0m\u001b[1;33m.\u001b[0m\u001b[0mrequire_length_match\u001b[0m\u001b[1;33m(\u001b[0m\u001b[0mvalue\u001b[0m\u001b[1;33m,\u001b[0m \u001b[0mself\u001b[0m\u001b[1;33m.\u001b[0m\u001b[0mindex\u001b[0m\u001b[1;33m)\u001b[0m\u001b[1;33m\u001b[0m\u001b[1;33m\u001b[0m\u001b[0m\n\u001b[0m\u001b[0;32m   4539\u001b[0m         \u001b[1;32mreturn\u001b[0m \u001b[0msanitize_array\u001b[0m\u001b[1;33m(\u001b[0m\u001b[0mvalue\u001b[0m\u001b[1;33m,\u001b[0m \u001b[0mself\u001b[0m\u001b[1;33m.\u001b[0m\u001b[0mindex\u001b[0m\u001b[1;33m,\u001b[0m \u001b[0mcopy\u001b[0m\u001b[1;33m=\u001b[0m\u001b[1;32mTrue\u001b[0m\u001b[1;33m,\u001b[0m \u001b[0mallow_2d\u001b[0m\u001b[1;33m=\u001b[0m\u001b[1;32mTrue\u001b[0m\u001b[1;33m)\u001b[0m\u001b[1;33m\u001b[0m\u001b[1;33m\u001b[0m\u001b[0m\n\u001b[0;32m   4540\u001b[0m \u001b[1;33m\u001b[0m\u001b[0m\n",
      "\u001b[1;32m~\\anaconda3\\lib\\site-packages\\pandas\\core\\common.py\u001b[0m in \u001b[0;36mrequire_length_match\u001b[1;34m(data, index)\u001b[0m\n\u001b[0;32m    555\u001b[0m     \"\"\"\n\u001b[0;32m    556\u001b[0m     \u001b[1;32mif\u001b[0m \u001b[0mlen\u001b[0m\u001b[1;33m(\u001b[0m\u001b[0mdata\u001b[0m\u001b[1;33m)\u001b[0m \u001b[1;33m!=\u001b[0m \u001b[0mlen\u001b[0m\u001b[1;33m(\u001b[0m\u001b[0mindex\u001b[0m\u001b[1;33m)\u001b[0m\u001b[1;33m:\u001b[0m\u001b[1;33m\u001b[0m\u001b[1;33m\u001b[0m\u001b[0m\n\u001b[1;32m--> 557\u001b[1;33m         raise ValueError(\n\u001b[0m\u001b[0;32m    558\u001b[0m             \u001b[1;34m\"Length of values \"\u001b[0m\u001b[1;33m\u001b[0m\u001b[1;33m\u001b[0m\u001b[0m\n\u001b[0;32m    559\u001b[0m             \u001b[1;34mf\"({len(data)}) \"\u001b[0m\u001b[1;33m\u001b[0m\u001b[1;33m\u001b[0m\u001b[0m\n",
      "\u001b[1;31mValueError\u001b[0m: Length of values (743) does not match length of index (800)"
     ]
    }
   ],
   "source": [
    "song_df['유튜브'] = yt_lst\n",
    "song_df['유튜브링크체크'] = yt_lst_check\n",
    "song_df"
   ]
  }
 ],
 "metadata": {
  "kernelspec": {
   "display_name": "Python 3 (ipykernel)",
   "language": "python",
   "name": "python3"
  },
  "language_info": {
   "codemirror_mode": {
    "name": "ipython",
    "version": 3
   },
   "file_extension": ".py",
   "mimetype": "text/x-python",
   "name": "python",
   "nbconvert_exporter": "python",
   "pygments_lexer": "ipython3",
   "version": "3.9.13"
  },
  "toc": {
   "base_numbering": 1,
   "nav_menu": {},
   "number_sections": true,
   "sideBar": true,
   "skip_h1_title": false,
   "title_cell": "Table of Contents",
   "title_sidebar": "Contents",
   "toc_cell": false,
   "toc_position": {},
   "toc_section_display": true,
   "toc_window_display": false
  },
  "varInspector": {
   "cols": {
    "lenName": 16,
    "lenType": 16,
    "lenVar": 40
   },
   "kernels_config": {
    "python": {
     "delete_cmd_postfix": "",
     "delete_cmd_prefix": "del ",
     "library": "var_list.py",
     "varRefreshCmd": "print(var_dic_list())"
    },
    "r": {
     "delete_cmd_postfix": ") ",
     "delete_cmd_prefix": "rm(",
     "library": "var_list.r",
     "varRefreshCmd": "cat(var_dic_list()) "
    }
   },
   "types_to_exclude": [
    "module",
    "function",
    "builtin_function_or_method",
    "instance",
    "_Feature"
   ],
   "window_display": false
  }
 },
 "nbformat": 4,
 "nbformat_minor": 5
}
