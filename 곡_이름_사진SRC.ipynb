{
 "cells": [
  {
   "cell_type": "code",
   "execution_count": 1,
   "id": "01272784",
   "metadata": {
    "ExecuteTime": {
     "end_time": "2023-02-06T07:45:58.043966Z",
     "start_time": "2023-02-06T07:45:57.478117Z"
    }
   },
   "outputs": [],
   "source": [
    "import pandas as pd \n",
    "import requests as req\n",
    "from bs4 import BeautifulSoup as bs\n",
    "from selenium import webdriver as wb \n",
    "from selenium.webdriver.common.by import By\n",
    "from selenium.webdriver.common.keys import Keys\n",
    "import time "
   ]
  },
  {
   "cell_type": "code",
   "execution_count": 2,
   "id": "4ac0bb90",
   "metadata": {
    "ExecuteTime": {
     "end_time": "2023-02-06T07:46:00.767303Z",
     "start_time": "2023-02-06T07:45:58.046920Z"
    }
   },
   "outputs": [],
   "source": [
    "url= 'https://music.bugs.co.kr/genre/chart/kpop/ballad/total/week'# 벅스 발라드 주간 랭킹\n",
    "driver = wb.Chrome()\n",
    "\n",
    "driver.get(url)\n",
    "# driver.close()"
   ]
  },
  {
   "cell_type": "code",
   "execution_count": 6,
   "id": "6203286e",
   "metadata": {
    "ExecuteTime": {
     "end_time": "2023-02-06T07:46:16.960073Z",
     "start_time": "2023-02-06T07:46:16.407315Z"
    }
   },
   "outputs": [
    {
     "data": {
      "text/plain": [
       "['https://music.bugs.co.kr/album/4083499?wl_ref=list_tr_07_chart',\n",
       " 'https://music.bugs.co.kr/album/4079823?wl_ref=list_tr_07_chart',\n",
       " 'https://music.bugs.co.kr/album/413209?wl_ref=list_tr_07_chart',\n",
       " 'https://music.bugs.co.kr/album/20535938?wl_ref=list_tr_07_chart',\n",
       " 'https://music.bugs.co.kr/album/20536736?wl_ref=list_tr_07_chart',\n",
       " 'https://music.bugs.co.kr/album/4083020?wl_ref=list_tr_07_chart',\n",
       " 'https://music.bugs.co.kr/album/20472041?wl_ref=list_tr_07_chart',\n",
       " 'https://music.bugs.co.kr/album/4069371?wl_ref=list_tr_07_chart',\n",
       " 'https://music.bugs.co.kr/album/4045282?wl_ref=list_tr_07_chart',\n",
       " 'https://music.bugs.co.kr/album/4077595?wl_ref=list_tr_07_chart',\n",
       " 'https://music.bugs.co.kr/album/4069154?wl_ref=list_tr_07_chart',\n",
       " 'https://music.bugs.co.kr/album/20154722?wl_ref=list_tr_07_chart',\n",
       " 'https://music.bugs.co.kr/album/4082235?wl_ref=list_tr_07_chart',\n",
       " 'https://music.bugs.co.kr/album/4074701?wl_ref=list_tr_07_chart',\n",
       " 'https://music.bugs.co.kr/album/20495162?wl_ref=list_tr_07_chart',\n",
       " 'https://music.bugs.co.kr/album/4073229?wl_ref=list_tr_07_chart',\n",
       " 'https://music.bugs.co.kr/album/4065831?wl_ref=list_tr_07_chart',\n",
       " 'https://music.bugs.co.kr/album/4069567?wl_ref=list_tr_07_chart',\n",
       " 'https://music.bugs.co.kr/album/4082024?wl_ref=list_tr_07_chart',\n",
       " 'https://music.bugs.co.kr/album/4082656?wl_ref=list_tr_07_chart',\n",
       " 'https://music.bugs.co.kr/album/4080735?wl_ref=list_tr_07_chart',\n",
       " 'https://music.bugs.co.kr/album/20468120?wl_ref=list_tr_07_chart',\n",
       " 'https://music.bugs.co.kr/album/4083088?wl_ref=list_tr_07_chart',\n",
       " 'https://music.bugs.co.kr/album/4068421?wl_ref=list_tr_07_chart',\n",
       " 'https://music.bugs.co.kr/album/4083125?wl_ref=list_tr_07_chart',\n",
       " 'https://music.bugs.co.kr/album/20156782?wl_ref=list_tr_07_chart',\n",
       " 'https://music.bugs.co.kr/album/9000635?wl_ref=list_tr_07_chart',\n",
       " 'https://music.bugs.co.kr/album/4080594?wl_ref=list_tr_07_chart',\n",
       " 'https://music.bugs.co.kr/album/4082994?wl_ref=list_tr_07_chart',\n",
       " 'https://music.bugs.co.kr/album/4083273?wl_ref=list_tr_07_chart',\n",
       " 'https://music.bugs.co.kr/album/4083251?wl_ref=list_tr_07_chart',\n",
       " 'https://music.bugs.co.kr/album/20278851?wl_ref=list_tr_07_chart',\n",
       " 'https://music.bugs.co.kr/album/4014150?wl_ref=list_tr_07_chart',\n",
       " 'https://music.bugs.co.kr/album/20089092?wl_ref=list_tr_07_chart',\n",
       " 'https://music.bugs.co.kr/album/4083322?wl_ref=list_tr_07_chart',\n",
       " 'https://music.bugs.co.kr/album/4077612?wl_ref=list_tr_07_chart',\n",
       " 'https://music.bugs.co.kr/album/20240141?wl_ref=list_tr_07_chart',\n",
       " 'https://music.bugs.co.kr/album/4080483?wl_ref=list_tr_07_chart',\n",
       " 'https://music.bugs.co.kr/album/4078263?wl_ref=list_tr_07_chart',\n",
       " 'https://music.bugs.co.kr/album/20462525?wl_ref=list_tr_07_chart',\n",
       " 'https://music.bugs.co.kr/album/892073?wl_ref=list_tr_07_chart',\n",
       " 'https://music.bugs.co.kr/album/4068583?wl_ref=list_tr_07_chart',\n",
       " 'https://music.bugs.co.kr/album/4075823?wl_ref=list_tr_07_chart',\n",
       " 'https://music.bugs.co.kr/album/20277573?wl_ref=list_tr_07_chart',\n",
       " 'https://music.bugs.co.kr/album/20405430?wl_ref=list_tr_07_chart',\n",
       " 'https://music.bugs.co.kr/album/8022207?wl_ref=list_tr_07_chart',\n",
       " 'https://music.bugs.co.kr/album/548651?wl_ref=list_tr_07_chart',\n",
       " 'https://music.bugs.co.kr/album/20453371?wl_ref=list_tr_07_chart',\n",
       " 'https://music.bugs.co.kr/album/20107410?wl_ref=list_tr_07_chart',\n",
       " 'https://music.bugs.co.kr/album/4077616?wl_ref=list_tr_07_chart',\n",
       " 'https://music.bugs.co.kr/album/8023243?wl_ref=list_tr_07_chart',\n",
       " 'https://music.bugs.co.kr/album/4080706?wl_ref=list_tr_07_chart',\n",
       " 'https://music.bugs.co.kr/album/400586?wl_ref=list_tr_07_chart',\n",
       " 'https://music.bugs.co.kr/album/4081610?wl_ref=list_tr_07_chart',\n",
       " 'https://music.bugs.co.kr/album/20242177?wl_ref=list_tr_07_chart',\n",
       " 'https://music.bugs.co.kr/album/4064302?wl_ref=list_tr_07_chart',\n",
       " 'https://music.bugs.co.kr/album/20306376?wl_ref=list_tr_07_chart',\n",
       " 'https://music.bugs.co.kr/album/20286013?wl_ref=list_tr_07_chart',\n",
       " 'https://music.bugs.co.kr/album/20266778?wl_ref=list_tr_07_chart',\n",
       " 'https://music.bugs.co.kr/album/32889?wl_ref=list_tr_07_chart',\n",
       " 'https://music.bugs.co.kr/album/20038153?wl_ref=list_tr_07_chart',\n",
       " 'https://music.bugs.co.kr/album/4078489?wl_ref=list_tr_07_chart',\n",
       " 'https://music.bugs.co.kr/album/20462501?wl_ref=list_tr_07_chart',\n",
       " 'https://music.bugs.co.kr/album/20287171?wl_ref=list_tr_07_chart',\n",
       " 'https://music.bugs.co.kr/album/340045?wl_ref=list_tr_07_chart',\n",
       " 'https://music.bugs.co.kr/album/4069567?wl_ref=list_tr_07_chart',\n",
       " 'https://music.bugs.co.kr/album/4068832?wl_ref=list_tr_07_chart',\n",
       " 'https://music.bugs.co.kr/album/20426040?wl_ref=list_tr_07_chart',\n",
       " 'https://music.bugs.co.kr/album/8007002?wl_ref=list_tr_07_chart',\n",
       " 'https://music.bugs.co.kr/album/20306355?wl_ref=list_tr_07_chart',\n",
       " 'https://music.bugs.co.kr/album/20203701?wl_ref=list_tr_07_chart',\n",
       " 'https://music.bugs.co.kr/album/20109456?wl_ref=list_tr_07_chart',\n",
       " 'https://music.bugs.co.kr/album/4027185?wl_ref=list_tr_07_chart',\n",
       " 'https://music.bugs.co.kr/album/20270833?wl_ref=list_tr_07_chart',\n",
       " 'https://music.bugs.co.kr/album/8024661?wl_ref=list_tr_07_chart',\n",
       " 'https://music.bugs.co.kr/album/988734?wl_ref=list_tr_07_chart',\n",
       " 'https://music.bugs.co.kr/album/4082675?wl_ref=list_tr_07_chart',\n",
       " 'https://music.bugs.co.kr/album/20542227?wl_ref=list_tr_07_chart',\n",
       " 'https://music.bugs.co.kr/album/20445945?wl_ref=list_tr_07_chart',\n",
       " 'https://music.bugs.co.kr/album/5280?wl_ref=list_tr_07_chart',\n",
       " 'https://music.bugs.co.kr/album/20104243?wl_ref=list_tr_07_chart',\n",
       " 'https://music.bugs.co.kr/album/4083348?wl_ref=list_tr_07_chart',\n",
       " 'https://music.bugs.co.kr/album/4075173?wl_ref=list_tr_07_chart',\n",
       " 'https://music.bugs.co.kr/album/4082031?wl_ref=list_tr_07_chart',\n",
       " 'https://music.bugs.co.kr/album/8000045?wl_ref=list_tr_07_chart',\n",
       " 'https://music.bugs.co.kr/album/4081467?wl_ref=list_tr_07_chart',\n",
       " 'https://music.bugs.co.kr/album/463165?wl_ref=list_tr_07_chart',\n",
       " 'https://music.bugs.co.kr/album/20146368?wl_ref=list_tr_07_chart',\n",
       " 'https://music.bugs.co.kr/album/4064174?wl_ref=list_tr_07_chart',\n",
       " 'https://music.bugs.co.kr/album/4082201?wl_ref=list_tr_07_chart',\n",
       " 'https://music.bugs.co.kr/album/20138554?wl_ref=list_tr_07_chart',\n",
       " 'https://music.bugs.co.kr/album/4081117?wl_ref=list_tr_07_chart',\n",
       " 'https://music.bugs.co.kr/album/20420099?wl_ref=list_tr_07_chart',\n",
       " 'https://music.bugs.co.kr/album/20463934?wl_ref=list_tr_07_chart',\n",
       " 'https://music.bugs.co.kr/album/20246648?wl_ref=list_tr_07_chart',\n",
       " 'https://music.bugs.co.kr/album/958964?wl_ref=list_tr_07_chart',\n",
       " 'https://music.bugs.co.kr/album/4078704?wl_ref=list_tr_07_chart',\n",
       " 'https://music.bugs.co.kr/album/4066507?wl_ref=list_tr_07_chart',\n",
       " 'https://music.bugs.co.kr/album/4070887?wl_ref=list_tr_07_chart',\n",
       " 'https://music.bugs.co.kr/album/4083364?wl_ref=list_tr_07_chart']"
      ]
     },
     "execution_count": 6,
     "metadata": {},
     "output_type": "execute_result"
    }
   ],
   "source": [
    "src_lst=[] #src긁어서 저장하는 리스트\n",
    "img =driver.find_elements(By.CLASS_NAME,'thumbnail') \n",
    "for i in img:    \n",
    "    src_lst.append(i.get_attribute('href'))#href 속성으로 썸네일 누른창 url받아오기\n",
    "src_lst"
   ]
  },
  {
   "cell_type": "code",
   "execution_count": 36,
   "id": "422bee41",
   "metadata": {
    "ExecuteTime": {
     "end_time": "2023-02-06T23:45:45.493926Z",
     "start_time": "2023-02-06T23:38:26.712677Z"
    }
   },
   "outputs": [],
   "source": [
    "img_lst=[]#받은 url 하나당 사진 src저장하기\n",
    "for i in src_lst:\n",
    "    url= i\n",
    "    driver = wb.Chrome()\n",
    "    driver.get(url)\n",
    "    thum= driver.find_element(By.CLASS_NAME,'big .mask~img')  \n",
    "    img_lst.append(thum.get_attribute('src'))"
   ]
  },
  {
   "cell_type": "code",
   "execution_count": 37,
   "id": "a58c182e",
   "metadata": {
    "ExecuteTime": {
     "end_time": "2023-02-06T23:50:18.404862Z",
     "start_time": "2023-02-06T23:50:18.389684Z"
    }
   },
   "outputs": [
    {
     "data": {
      "text/plain": [
       "['https://image.bugsm.co.kr/album/images/200/40834/4083499.jpg?version=20230203064409.0',\n",
       " 'https://image.bugsm.co.kr/album/images/200/40798/4079823.jpg?version=20221022004025.0',\n",
       " 'https://image.bugsm.co.kr/album/images/200/4132/413209.jpg?version=20210204110908.0',\n",
       " 'https://image.bugsm.co.kr/album/images/200/205359/20535938.jpg?version=20221222002623.0',\n",
       " 'https://image.bugsm.co.kr/album/images/200/205367/20536736.jpg?version=20230104002539.0',\n",
       " 'https://image.bugsm.co.kr/album/images/200/40830/4083020.jpg?version=20230204014524.0',\n",
       " 'https://image.bugsm.co.kr/album/images/200/204720/20472041.jpg?version=20221201005747.0',\n",
       " 'https://image.bugsm.co.kr/album/images/200/40693/4069371.jpg?version=20220104004057.0',\n",
       " 'https://image.bugsm.co.kr/album/images/200/40452/4045282.jpg?version=20210520063840.0',\n",
       " 'https://image.bugsm.co.kr/album/images/200/40775/4077595.jpg?version=20221216020851.0',\n",
       " 'https://image.bugsm.co.kr/album/images/200/40691/4069154.jpg?version=20211219180024.0',\n",
       " 'https://image.bugsm.co.kr/album/images/200/201547/20154722.jpg?version=20190515013457.0',\n",
       " 'https://image.bugsm.co.kr/album/images/200/40822/4082235.jpg?version=20221214064224.0',\n",
       " 'https://image.bugsm.co.kr/album/images/200/40747/4074701.jpg?version=20220425063233.0',\n",
       " 'https://image.bugsm.co.kr/album/images/200/204951/20495162.jpg?version=20220929011304.0',\n",
       " 'https://image.bugsm.co.kr/album/images/200/40732/4073229.jpg?version=20220325180012.0',\n",
       " 'https://image.bugsm.co.kr/album/images/200/40658/4065831.jpg?version=20211106011825.0',\n",
       " 'https://image.bugsm.co.kr/album/images/200/40695/4069567.jpg?version=20220104003927.0',\n",
       " 'https://image.bugsm.co.kr/album/images/200/40820/4082024.jpg?version=20221213014512.0',\n",
       " 'https://image.bugsm.co.kr/album/images/200/40826/4082656.jpg?version=20230119022533.0',\n",
       " 'https://image.bugsm.co.kr/album/images/200/40807/4080735.jpg?version=20230117021424.0',\n",
       " 'https://image.bugsm.co.kr/album/images/200/204681/20468120.jpg?version=20220518014558.0',\n",
       " 'https://image.bugsm.co.kr/album/images/200/40830/4083088.jpg?version=20230116063405.0',\n",
       " 'https://image.bugsm.co.kr/album/images/200/40684/4068421.jpg?version=20211204070250.0',\n",
       " 'https://image.bugsm.co.kr/album/images/200/40831/4083125.jpg?version=20230119014034.0',\n",
       " 'https://image.bugsm.co.kr/album/images/200/201567/20156782.jpg?version=20211216040955.0',\n",
       " 'https://image.bugsm.co.kr/album/images/200/90006/9000635.jpg?version=20211216021442.0',\n",
       " 'https://image.bugsm.co.kr/album/images/200/40805/4080594.jpg?version=20221014064015.0',\n",
       " 'https://image.bugsm.co.kr/album/images/200/40829/4082994.jpg?version=20230112064318.0',\n",
       " 'https://image.bugsm.co.kr/album/images/200/40832/4083273.jpg?version=20230126014049.0',\n",
       " 'https://image.bugsm.co.kr/album/images/200/40832/4083251.jpg?version=20230125063858.0',\n",
       " 'https://image.bugsm.co.kr/album/images/200/202788/20278851.jpg?version=20210727012601.0',\n",
       " 'https://image.bugsm.co.kr/album/images/200/40141/4014150.jpg?version=20210422183751.0',\n",
       " 'https://image.bugsm.co.kr/album/images/200/200890/20089092.jpg?version=20220301014959.0',\n",
       " 'https://image.bugsm.co.kr/album/images/200/40833/4083322.jpg?version=20230201020523.0',\n",
       " 'https://image.bugsm.co.kr/album/images/200/40776/4077612.jpg?version=20221209010520.0',\n",
       " 'https://image.bugsm.co.kr/album/images/200/202401/20240141.jpg?version=20220708002350.0',\n",
       " 'https://image.bugsm.co.kr/album/images/200/40804/4080483.jpg?version=20221011063729.0',\n",
       " 'https://image.bugsm.co.kr/album/images/200/40782/4078263.jpg?version=20220803014943.0',\n",
       " 'https://image.bugsm.co.kr/album/images/200/204625/20462525.jpg?version=20220504013817.0',\n",
       " 'https://image.bugsm.co.kr/album/images/200/8920/892073.jpg?version=20210113002357.0',\n",
       " 'https://image.bugsm.co.kr/album/images/200/40685/4068583.jpg?version=20211214011549.0',\n",
       " 'https://image.bugsm.co.kr/album/images/200/40758/4075823.jpg?version=20220520063445.0',\n",
       " 'https://image.bugsm.co.kr/album/images/200/202775/20277573.jpg?version=20210422183751.0',\n",
       " 'https://image.bugsm.co.kr/album/images/200/204054/20405430.jpg?version=20210710002350.0',\n",
       " 'https://image.bugsm.co.kr/album/images/200/80222/8022207.jpg?version=20211215012901.0',\n",
       " 'https://image.bugsm.co.kr/album/images/200/5486/548651.jpg?version=20210925003443.0',\n",
       " 'https://image.bugsm.co.kr/album/images/200/204533/20453371.jpg?version=20220227011607.0',\n",
       " 'https://image.bugsm.co.kr/album/images/200/201074/20107410.jpg?version=20220324021603.0',\n",
       " 'https://image.bugsm.co.kr/album/images/200/40776/4077616.jpg?version=20220712211106.0',\n",
       " 'https://image.bugsm.co.kr/album/images/200/80232/8023243.jpg?version=20211215005623.0',\n",
       " 'https://image.bugsm.co.kr/album/images/200/40807/4080706.jpg?version=20221115025821.0',\n",
       " 'https://image.bugsm.co.kr/album/images/200/4005/400586.jpg?version=20211216004142.0',\n",
       " 'https://image.bugsm.co.kr/album/images/200/40816/4081610.jpg?version=20221120064217.0',\n",
       " 'https://image.bugsm.co.kr/album/images/200/202421/20242177.jpg?version=20210422183751.0',\n",
       " 'https://image.bugsm.co.kr/album/images/200/40643/4064302.jpg?version=20220106003107.0',\n",
       " 'https://image.bugsm.co.kr/album/images/200/203063/20306376.jpg?version=20210422183751.0',\n",
       " 'https://image.bugsm.co.kr/album/images/200/202860/20286013.jpg?version=20211231013724.0',\n",
       " 'https://image.bugsm.co.kr/album/images/200/202667/20266778.jpg?version=20210902181012.0',\n",
       " 'https://image.bugsm.co.kr/album/images/200/328/32889.jpg?version=20220324025102.0',\n",
       " 'https://image.bugsm.co.kr/album/images/200/200381/20038153.jpg?version=20211216040733.0',\n",
       " 'https://image.bugsm.co.kr/album/images/200/40784/4078489.jpg?version=20220812004904.0',\n",
       " 'https://image.bugsm.co.kr/album/images/200/204625/20462501.jpg?version=20220416180004.0',\n",
       " 'https://image.bugsm.co.kr/album/images/200/202871/20287171.jpg?version=20210422183751.0',\n",
       " 'https://image.bugsm.co.kr/album/images/200/3400/340045.jpg?version=20210422183751.0',\n",
       " 'https://image.bugsm.co.kr/album/images/200/40695/4069567.jpg?version=20220104003927.0',\n",
       " 'https://image.bugsm.co.kr/album/images/200/40688/4068832.jpg?version=20211216015400.0',\n",
       " 'https://image.bugsm.co.kr/album/images/200/204260/20426040.jpg?version=20211218013951.0',\n",
       " 'https://image.bugsm.co.kr/album/images/200/80070/8007002.jpg?version=20220324024900.0',\n",
       " 'https://image.bugsm.co.kr/album/images/200/203063/20306355.jpg?version=20210902142324.0',\n",
       " 'https://image.bugsm.co.kr/album/images/200/202037/20203701.jpg?version=20210422183751.0',\n",
       " 'https://image.bugsm.co.kr/album/images/200/201094/20109456.jpg?version=20210702160034.0',\n",
       " 'https://image.bugsm.co.kr/album/images/200/40271/4027185.jpg?version=20221119004352.0',\n",
       " 'https://image.bugsm.co.kr/album/images/200/202708/20270833.jpg?version=20210902181015.0',\n",
       " 'https://image.bugsm.co.kr/album/images/200/80246/8024661.jpg?version=20211215013753.0',\n",
       " 'https://image.bugsm.co.kr/album/images/200/9887/988734.jpg?version=20210422183751.0',\n",
       " 'https://image.bugsm.co.kr/album/images/200/40826/4082675.jpg?version=20221229063847.0',\n",
       " 'https://image.bugsm.co.kr/album/images/200/205422/20542227.jpg?version=20230127013234.0',\n",
       " 'https://image.bugsm.co.kr/album/images/200/204459/20445945.jpg?version=20220118004938.0',\n",
       " 'https://image.bugsm.co.kr/album/images/200/52/5280.jpg?version=20211215005110.0',\n",
       " 'https://image.bugsm.co.kr/album/images/200/201042/20104243.jpg?version=20220301010017.0',\n",
       " 'https://image.bugsm.co.kr/album/images/200/40833/4083348.jpg?version=20230128072724.0',\n",
       " 'https://image.bugsm.co.kr/album/images/200/40751/4075173.jpg?version=20221014002609.0',\n",
       " 'https://image.bugsm.co.kr/album/images/200/40820/4082031.jpg?version=20221206063859.0',\n",
       " 'https://image.bugsm.co.kr/album/images/200/80000/8000045.jpg?version=20211215012605.0',\n",
       " 'https://image.bugsm.co.kr/album/images/200/40814/4081467.jpg?version=20221114064152.0',\n",
       " 'https://image.bugsm.co.kr/album/images/200/4631/463165.jpg?version=20220720015404.0',\n",
       " 'https://image.bugsm.co.kr/album/images/200/201463/20146368.jpg?version=20210422183751.0',\n",
       " 'https://image.bugsm.co.kr/album/images/200/40641/4064174.jpg?version=20230103015458.0',\n",
       " 'https://image.bugsm.co.kr/album/images/200/40822/4082201.jpg?version=20221212063400.0',\n",
       " 'https://image.bugsm.co.kr/album/images/200/201385/20138554.jpg?version=20210422183751.0',\n",
       " 'https://image.bugsm.co.kr/album/images/200/40811/4081117.jpg?version=20221103055900.0',\n",
       " 'https://image.bugsm.co.kr/album/images/200/204200/20420099.jpg?version=20210917004524.0',\n",
       " 'https://image.bugsm.co.kr/album/images/200/204639/20463934.jpg?version=20220426010835.0',\n",
       " 'https://image.bugsm.co.kr/album/images/200/202466/20246648.jpg?version=20221105010315.0',\n",
       " 'https://image.bugsm.co.kr/album/images/200/9589/958964.jpg?version=20201216092743.0',\n",
       " 'https://image.bugsm.co.kr/album/images/200/40787/4078704.jpg?version=20221021004946.0',\n",
       " 'https://image.bugsm.co.kr/album/images/200/40665/4066507.jpg?version=20211027003705.0',\n",
       " 'https://image.bugsm.co.kr/album/images/200/40708/4070887.jpg?version=20220208063659.0',\n",
       " 'https://image.bugsm.co.kr/album/images/200/40833/4083364.jpg?version=20230204023905.0']"
      ]
     },
     "execution_count": 37,
     "metadata": {},
     "output_type": "execute_result"
    }
   ],
   "source": [
    "img_lst"
   ]
  },
  {
   "cell_type": "code",
   "execution_count": null,
   "id": "b75db1cb",
   "metadata": {},
   "outputs": [],
   "source": [
    "img_dict={\"\"}"
   ]
  },
  {
   "cell_type": "code",
   "execution_count": null,
   "id": "10e2ccfb",
   "metadata": {},
   "outputs": [],
   "source": []
  },
  {
   "cell_type": "code",
   "execution_count": null,
   "id": "29d02f96",
   "metadata": {},
   "outputs": [],
   "source": []
  },
  {
   "cell_type": "code",
   "execution_count": null,
   "id": "f84c7fe4",
   "metadata": {},
   "outputs": [],
   "source": []
  },
  {
   "cell_type": "code",
   "execution_count": null,
   "id": "16369fb4",
   "metadata": {},
   "outputs": [],
   "source": []
  },
  {
   "cell_type": "code",
   "execution_count": null,
   "id": "c303891f",
   "metadata": {},
   "outputs": [],
   "source": []
  },
  {
   "cell_type": "code",
   "execution_count": null,
   "id": "cb3138c8",
   "metadata": {},
   "outputs": [],
   "source": []
  },
  {
   "cell_type": "code",
   "execution_count": null,
   "id": "a93c0452",
   "metadata": {},
   "outputs": [],
   "source": []
  },
  {
   "cell_type": "code",
   "execution_count": null,
   "id": "ea4b157e",
   "metadata": {},
   "outputs": [],
   "source": []
  },
  {
   "cell_type": "code",
   "execution_count": null,
   "id": "4461ee00",
   "metadata": {},
   "outputs": [],
   "source": []
  },
  {
   "cell_type": "code",
   "execution_count": null,
   "id": "f828a92c",
   "metadata": {},
   "outputs": [],
   "source": []
  },
  {
   "cell_type": "code",
   "execution_count": null,
   "id": "e755fb29",
   "metadata": {},
   "outputs": [],
   "source": []
  },
  {
   "cell_type": "code",
   "execution_count": null,
   "id": "958b1c93",
   "metadata": {},
   "outputs": [],
   "source": []
  },
  {
   "cell_type": "code",
   "execution_count": null,
   "id": "6612866f",
   "metadata": {},
   "outputs": [],
   "source": []
  },
  {
   "cell_type": "code",
   "execution_count": null,
   "id": "fb677304",
   "metadata": {},
   "outputs": [],
   "source": []
  },
  {
   "cell_type": "code",
   "execution_count": null,
   "id": "267e3b0e",
   "metadata": {},
   "outputs": [],
   "source": []
  },
  {
   "cell_type": "code",
   "execution_count": null,
   "id": "4c30d1c4",
   "metadata": {},
   "outputs": [],
   "source": []
  },
  {
   "cell_type": "code",
   "execution_count": null,
   "id": "91b01b79",
   "metadata": {},
   "outputs": [],
   "source": []
  },
  {
   "cell_type": "code",
   "execution_count": null,
   "id": "54f8b5fe",
   "metadata": {},
   "outputs": [],
   "source": []
  },
  {
   "cell_type": "code",
   "execution_count": null,
   "id": "1df3291c",
   "metadata": {},
   "outputs": [],
   "source": []
  },
  {
   "cell_type": "code",
   "execution_count": null,
   "id": "20806486",
   "metadata": {},
   "outputs": [],
   "source": []
  },
  {
   "cell_type": "code",
   "execution_count": null,
   "id": "560f5839",
   "metadata": {},
   "outputs": [],
   "source": []
  },
  {
   "cell_type": "code",
   "execution_count": null,
   "id": "992896d4",
   "metadata": {},
   "outputs": [],
   "source": []
  },
  {
   "cell_type": "code",
   "execution_count": null,
   "id": "ddfd9753",
   "metadata": {},
   "outputs": [],
   "source": []
  },
  {
   "cell_type": "code",
   "execution_count": null,
   "id": "4415a744",
   "metadata": {},
   "outputs": [],
   "source": []
  },
  {
   "cell_type": "code",
   "execution_count": null,
   "id": "c3e19a28",
   "metadata": {},
   "outputs": [],
   "source": []
  },
  {
   "cell_type": "code",
   "execution_count": null,
   "id": "1b2f2801",
   "metadata": {},
   "outputs": [],
   "source": []
  },
  {
   "cell_type": "code",
   "execution_count": null,
   "id": "feb0dc33",
   "metadata": {},
   "outputs": [],
   "source": []
  },
  {
   "cell_type": "code",
   "execution_count": null,
   "id": "eb344b4e",
   "metadata": {},
   "outputs": [],
   "source": []
  },
  {
   "cell_type": "code",
   "execution_count": null,
   "id": "1e6fd526",
   "metadata": {},
   "outputs": [],
   "source": []
  },
  {
   "cell_type": "code",
   "execution_count": null,
   "id": "6e0bed99",
   "metadata": {},
   "outputs": [],
   "source": []
  },
  {
   "cell_type": "code",
   "execution_count": null,
   "id": "2ba9fa02",
   "metadata": {},
   "outputs": [],
   "source": []
  },
  {
   "cell_type": "code",
   "execution_count": null,
   "id": "c0b85ee0",
   "metadata": {},
   "outputs": [],
   "source": []
  },
  {
   "cell_type": "code",
   "execution_count": null,
   "id": "c359f3d2",
   "metadata": {},
   "outputs": [],
   "source": []
  },
  {
   "cell_type": "code",
   "execution_count": null,
   "id": "0adaa109",
   "metadata": {},
   "outputs": [],
   "source": []
  },
  {
   "cell_type": "code",
   "execution_count": null,
   "id": "881f34d2",
   "metadata": {},
   "outputs": [],
   "source": []
  },
  {
   "cell_type": "code",
   "execution_count": null,
   "id": "495565a3",
   "metadata": {},
   "outputs": [],
   "source": []
  },
  {
   "cell_type": "code",
   "execution_count": null,
   "id": "9c789ab0",
   "metadata": {},
   "outputs": [],
   "source": []
  },
  {
   "cell_type": "code",
   "execution_count": null,
   "id": "53797505",
   "metadata": {},
   "outputs": [],
   "source": []
  },
  {
   "cell_type": "code",
   "execution_count": null,
   "id": "fe1d2a35",
   "metadata": {},
   "outputs": [],
   "source": []
  },
  {
   "cell_type": "code",
   "execution_count": null,
   "id": "3ae7f8d3",
   "metadata": {},
   "outputs": [],
   "source": []
  },
  {
   "cell_type": "code",
   "execution_count": null,
   "id": "7372b321",
   "metadata": {},
   "outputs": [],
   "source": []
  },
  {
   "cell_type": "code",
   "execution_count": null,
   "id": "498fa6f3",
   "metadata": {},
   "outputs": [],
   "source": []
  },
  {
   "cell_type": "code",
   "execution_count": null,
   "id": "f1ad7805",
   "metadata": {},
   "outputs": [],
   "source": []
  },
  {
   "cell_type": "code",
   "execution_count": null,
   "id": "b0529a2e",
   "metadata": {},
   "outputs": [],
   "source": []
  },
  {
   "cell_type": "code",
   "execution_count": null,
   "id": "2f591612",
   "metadata": {},
   "outputs": [],
   "source": []
  },
  {
   "cell_type": "code",
   "execution_count": null,
   "id": "b6cda543",
   "metadata": {},
   "outputs": [],
   "source": []
  },
  {
   "cell_type": "code",
   "execution_count": null,
   "id": "8feefa54",
   "metadata": {},
   "outputs": [],
   "source": []
  },
  {
   "cell_type": "code",
   "execution_count": null,
   "id": "b06516e2",
   "metadata": {},
   "outputs": [],
   "source": []
  },
  {
   "cell_type": "code",
   "execution_count": null,
   "id": "947522c9",
   "metadata": {},
   "outputs": [],
   "source": []
  },
  {
   "cell_type": "code",
   "execution_count": null,
   "id": "42e59c49",
   "metadata": {},
   "outputs": [],
   "source": []
  },
  {
   "cell_type": "code",
   "execution_count": null,
   "id": "9081b208",
   "metadata": {},
   "outputs": [],
   "source": []
  },
  {
   "cell_type": "code",
   "execution_count": null,
   "id": "01f145d5",
   "metadata": {},
   "outputs": [],
   "source": []
  },
  {
   "cell_type": "code",
   "execution_count": null,
   "id": "f0aa5edb",
   "metadata": {},
   "outputs": [],
   "source": []
  },
  {
   "cell_type": "code",
   "execution_count": null,
   "id": "e0f6e081",
   "metadata": {},
   "outputs": [],
   "source": []
  },
  {
   "cell_type": "code",
   "execution_count": null,
   "id": "8ef6712e",
   "metadata": {},
   "outputs": [],
   "source": []
  },
  {
   "cell_type": "code",
   "execution_count": null,
   "id": "7dbceb1d",
   "metadata": {},
   "outputs": [],
   "source": []
  },
  {
   "cell_type": "code",
   "execution_count": null,
   "id": "32dee057",
   "metadata": {},
   "outputs": [],
   "source": []
  },
  {
   "cell_type": "code",
   "execution_count": null,
   "id": "fb3942da",
   "metadata": {},
   "outputs": [],
   "source": []
  },
  {
   "cell_type": "code",
   "execution_count": null,
   "id": "b9c5eecc",
   "metadata": {},
   "outputs": [],
   "source": []
  }
 ],
 "metadata": {
  "kernelspec": {
   "display_name": "Python 3 (ipykernel)",
   "language": "python",
   "name": "python3"
  },
  "language_info": {
   "codemirror_mode": {
    "name": "ipython",
    "version": 3
   },
   "file_extension": ".py",
   "mimetype": "text/x-python",
   "name": "python",
   "nbconvert_exporter": "python",
   "pygments_lexer": "ipython3",
   "version": "3.9.13"
  },
  "toc": {
   "base_numbering": 1,
   "nav_menu": {},
   "number_sections": true,
   "sideBar": true,
   "skip_h1_title": false,
   "title_cell": "Table of Contents",
   "title_sidebar": "Contents",
   "toc_cell": false,
   "toc_position": {},
   "toc_section_display": true,
   "toc_window_display": false
  },
  "varInspector": {
   "cols": {
    "lenName": 16,
    "lenType": 16,
    "lenVar": 40
   },
   "kernels_config": {
    "python": {
     "delete_cmd_postfix": "",
     "delete_cmd_prefix": "del ",
     "library": "var_list.py",
     "varRefreshCmd": "print(var_dic_list())"
    },
    "r": {
     "delete_cmd_postfix": ") ",
     "delete_cmd_prefix": "rm(",
     "library": "var_list.r",
     "varRefreshCmd": "cat(var_dic_list()) "
    }
   },
   "types_to_exclude": [
    "module",
    "function",
    "builtin_function_or_method",
    "instance",
    "_Feature"
   ],
   "window_display": false
  }
 },
 "nbformat": 4,
 "nbformat_minor": 5
}
